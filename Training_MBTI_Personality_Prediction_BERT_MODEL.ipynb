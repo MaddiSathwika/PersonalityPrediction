{
 "cells": [
  {
   "cell_type": "markdown",
   "metadata": {},
   "source": [
    "# Importing libraries"
   ]
  },
  {
   "cell_type": "code",
   "execution_count": 1,
   "metadata": {
    "execution": {
     "iopub.execute_input": "2023-11-22T09:16:37.625684Z",
     "iopub.status.busy": "2023-11-22T09:16:37.625061Z",
     "iopub.status.idle": "2023-11-22T09:16:50.980358Z",
     "shell.execute_reply": "2023-11-22T09:16:50.979658Z",
     "shell.execute_reply.started": "2023-11-22T09:16:37.625583Z"
    }
   },
   "outputs": [],
   "source": [
    "import pandas as pd\n",
    "from sklearn.model_selection import train_test_split\n",
    "from sklearn.feature_extraction.text import TfidfVectorizer\n",
    "from sklearn.svm import LinearSVC\n",
    "from sklearn.pipeline import Pipeline\n",
    "from sklearn import metrics\n",
    "from sklearn.metrics import classification_report, f1_score\n",
    "import pickle\n",
    "import os.path\n",
    "import plotly.offline as pyo\n",
    "import plotly.graph_objs as go\n",
    "import spacy\n",
    "from nltk.stem.snowball import SnowballStemmer\n",
    "from sklearn.feature_extraction.text import CountVectorizer"
   ]
  },
  {
   "cell_type": "code",
   "execution_count": 2,
   "metadata": {
    "execution": {
     "iopub.execute_input": "2023-11-22T09:16:50.982284Z",
     "iopub.status.busy": "2023-11-22T09:16:50.982011Z",
     "iopub.status.idle": "2023-11-22T09:16:50.986368Z",
     "shell.execute_reply": "2023-11-22T09:16:50.985600Z",
     "shell.execute_reply.started": "2023-11-22T09:16:50.982242Z"
    }
   },
   "outputs": [],
   "source": [
    "#"
   ]
  },
  {
   "cell_type": "markdown",
   "metadata": {},
   "source": [
    "# Context"
   ]
  },
  {
   "cell_type": "markdown",
   "metadata": {},
   "source": [
    "MBTI (Myers-Briggs Type Indicator) is an introspective self-report questionnaire indicating differing psychological preferences (cognitive functions) in how people perceive the world and make decisions"
   ]
  },
  {
   "cell_type": "markdown",
   "metadata": {},
   "source": [
    "This study was made based on the kaggle dataset https://www.kaggle.com/zeyadkhalid/mbti-personality-types-500-dataset"
   ]
  },
  {
   "cell_type": "markdown",
   "metadata": {},
   "source": [
    "# Stop words"
   ]
  },
  {
   "cell_type": "markdown",
   "metadata": {},
   "source": [
    "As said, this dataset doesn't has any stop words"
   ]
  },
  {
   "cell_type": "markdown",
   "metadata": {},
   "source": [
    "\"Stop words\" are words that appears so frequently that don't require tagging as thoroughly as nouns, verbs and modifiers"
   ]
  },
  {
   "cell_type": "markdown",
   "metadata": {},
   "source": [
    "Let's use the library Spacy to see examples of english stop words\n",
    "\n",
    "Spacy is the Industrial Strength Natural Language Processing: https://spacy.io/"
   ]
  },
  {
   "cell_type": "code",
   "execution_count": 3,
   "metadata": {
    "execution": {
     "iopub.execute_input": "2023-11-22T09:16:50.987648Z",
     "iopub.status.busy": "2023-11-22T09:16:50.987401Z",
     "iopub.status.idle": "2023-11-22T09:16:51.813046Z",
     "shell.execute_reply": "2023-11-22T09:16:51.812306Z",
     "shell.execute_reply.started": "2023-11-22T09:16:50.987609Z"
    }
   },
   "outputs": [
    {
     "name": "stdout",
     "output_type": "stream",
     "text": [
      "{'fifteen', 'it', 'two', 'many', 'made', 'our', 'until', 'bottom', 'your', 'except', 'last', 'up', 'side', 'becomes', 'well', 'should', 'she', 'just', 'when', 'much', 'what', 'hence', 'more', 'again', 'her', '‘ll', 'most', 'in', 'always', 'how', 'by', 'either', 'to', 'whom', 'whenever', 'may', 'can', 'over', 'neither', 'namely', 'amongst', 'meanwhile', 'whereas', 'mine', 'whatever', 'very', 'they', 'one', 'anything', 'them', 'n’t', 'him', 'please', 'myself', \"'ve\", 'why', 'behind', 'some', 'alone', 'such', 'as', 'other', 'us', 'ca', 'are', 'already', 'rather', 'being', 'so', 'cannot', \"'s\", 'once', 'i', 'everything', 'yourself', 'for', 'less', 'latter', 'perhaps', 'often', 'noone', '‘m', 'seems', 'somehow', 'eight', 'thereafter', 'moreover', 'something', 'whoever', 'therein', 'herein', 'n‘t', 'been', 'a', 'has', 'unless', 'afterwards', 'quite', 'thereby', 'various', 'whose', 'between', 'nine', 'elsewhere', 'than', 'and', 'twelve', 'ten', '‘d', 'he', 'nobody', 'enough', '’m', 'per', 'herself', '’ve', 'amount', 'beyond', 'make', 'hundred', 'five', 'still', 'twenty', 'almost', 'no', 'his', 'this', 'beforehand', 'off', 'both', 'onto', 'since', 'from', 'hereby', 'anyone', 'might', 'became', 'have', 'would', 'next', 'among', 'also', 'under', 'whole', 'an', \"'d\", 'we', 'hers', 'further', 'whereafter', 'will', 'am', 'not', 'therefore', 'every', 'those', 'during', \"'ll\", 'nowhere', 'does', '’ll', '‘ve', 'although', 'whereby', 'hereafter', 'wherever', 'keep', 'below', 'before', 'ourselves', 'anyway', 'indeed', 'upon', 'using', 'another', 'thus', '‘re', 'get', 'after', 'few', 'around', 'whence', 'towards', 'hereupon', 'sixty', 'could', 'done', 'if', 'now', 'others', 'whether', 'first', 'whereupon', 'regarding', 'nevertheless', 'toward', \"n't\", \"'m\", 'everywhere', 'back', 'there', 'third', '’d', 'serious', 'across', 'take', 'else', 'together', 'into', 'nor', 'but', '‘s', 'on', 'against', 'down', 'seemed', 'least', 'ever', 'becoming', 'doing', 'himself', 'that', 'top', 'about', 'these', 'show', 'move', 'the', 'seem', 'me', 'while', 'where', 'sometimes', 'which', 'sometime', '’re', 'several', 'wherein', 'is', 'themselves', 'only', 'of', 'did', 'seeming', \"'re\", 'you', 'empty', 'four', 'ours', 'otherwise', 'anywhere', 're', 'formerly', 'too', 'though', 'call', '’s', 'latterly', 'my', 'thereupon', 'part', 'any', 'front', 'had', 'however', 'whither', 'with', 'used', 'none', 'eleven', 'who', 'mostly', 'somewhere', 'without', 'nothing', 'must', 'own', 'out', 'were', 'besides', 'someone', 'here', 'really', 'everyone', 'above', 'each', 'forty', 'full', 'thru', 'itself', 'all', 'through', 'or', 'become', 'within', 'never', 'say', 'be', 'throughout', 'anyhow', 'fifty', 'beside', 'see', 'do', 'same', 'six', 'its', 'former', 'due', 'go', 'three', 'name', 'via', 'then', 'their', 'because', 'along', 'was', 'yours', 'even', 'yet', 'yourselves', 'give', 'put', 'at', 'thence'}\n"
     ]
    }
   ],
   "source": [
    "# Load one of the availables trained pipelines for English\n",
    "# English pipeline optimized for CPU. Components: tok2vec, tagger, parser, senter, ner, attribute_ruler, lemmatizer.\n",
    "nlp = spacy.load('en_core_web_sm')\n",
    "\n",
    "\n",
    "# stop words built in spacy (english)\n",
    "print(nlp.Defaults.stop_words)"
   ]
  },
  {
   "cell_type": "code",
   "execution_count": 4,
   "metadata": {
    "execution": {
     "iopub.execute_input": "2023-11-22T09:16:51.815780Z",
     "iopub.status.busy": "2023-11-22T09:16:51.815199Z",
     "iopub.status.idle": "2023-11-22T09:16:51.820138Z",
     "shell.execute_reply": "2023-11-22T09:16:51.819448Z",
     "shell.execute_reply.started": "2023-11-22T09:16:51.815739Z"
    }
   },
   "outputs": [
    {
     "name": "stdout",
     "output_type": "stream",
     "text": [
      "Number of default stop words : 326\n"
     ]
    }
   ],
   "source": [
    "print(f\"Number of default stop words : {len(nlp.Defaults.stop_words)}\")"
   ]
  },
  {
   "cell_type": "code",
   "execution_count": 5,
   "metadata": {
    "execution": {
     "iopub.execute_input": "2023-11-22T09:16:51.821151Z",
     "iopub.status.busy": "2023-11-22T09:16:51.820957Z",
     "iopub.status.idle": "2023-11-22T09:16:51.835487Z",
     "shell.execute_reply": "2023-11-22T09:16:51.834312Z",
     "shell.execute_reply.started": "2023-11-22T09:16:51.821126Z"
    }
   },
   "outputs": [
    {
     "data": {
      "text/plain": [
       "True"
      ]
     },
     "execution_count": 5,
     "metadata": {},
     "output_type": "execute_result"
    }
   ],
   "source": [
    "# Checking if a word is a stop word\n",
    "nlp.vocab['is'].is_stop"
   ]
  },
  {
   "cell_type": "code",
   "execution_count": 6,
   "metadata": {
    "execution": {
     "iopub.execute_input": "2023-11-22T09:16:51.836663Z",
     "iopub.status.busy": "2023-11-22T09:16:51.836486Z",
     "iopub.status.idle": "2023-11-22T09:16:51.844751Z",
     "shell.execute_reply": "2023-11-22T09:16:51.843968Z",
     "shell.execute_reply.started": "2023-11-22T09:16:51.836640Z"
    }
   },
   "outputs": [
    {
     "data": {
      "text/plain": [
       "True"
      ]
     },
     "execution_count": 6,
     "metadata": {},
     "output_type": "execute_result"
    }
   ],
   "source": [
    "nlp.vocab['below'].is_stop"
   ]
  },
  {
   "cell_type": "code",
   "execution_count": 7,
   "metadata": {
    "execution": {
     "iopub.execute_input": "2023-11-22T09:16:51.845859Z",
     "iopub.status.busy": "2023-11-22T09:16:51.845679Z",
     "iopub.status.idle": "2023-11-22T09:16:51.855720Z",
     "shell.execute_reply": "2023-11-22T09:16:51.854962Z",
     "shell.execute_reply.started": "2023-11-22T09:16:51.845837Z"
    }
   },
   "outputs": [
    {
     "data": {
      "text/plain": [
       "False"
      ]
     },
     "execution_count": 7,
     "metadata": {},
     "output_type": "execute_result"
    }
   ],
   "source": [
    "nlp.vocab['btw'].is_stop"
   ]
  },
  {
   "cell_type": "markdown",
   "metadata": {},
   "source": [
    "# Lemmatization"
   ]
  },
  {
   "cell_type": "markdown",
   "metadata": {},
   "source": [
    "As said before, this dataset also has Lemmatization preprocess feature"
   ]
  },
  {
   "cell_type": "markdown",
   "metadata": {},
   "source": [
    "In order to understand lemmatization, first we'll look at the concept of Stemming"
   ]
  },
  {
   "cell_type": "markdown",
   "metadata": {},
   "source": [
    "### Stemming"
   ]
  },
  {
   "cell_type": "markdown",
   "metadata": {},
   "source": [
    "Stemming is used to return similarities words on the search process. \n",
    " \n",
    " - Example: search=boat, also returns \"boats\" and \"boating\""
   ]
  },
  {
   "cell_type": "markdown",
   "metadata": {},
   "source": [
    "Let's use a sophisticated stemmer, the SnowballStemmer from NLTK (natural language toolkit)"
   ]
  },
  {
   "cell_type": "code",
   "execution_count": 8,
   "metadata": {
    "execution": {
     "iopub.execute_input": "2023-11-22T09:16:51.856940Z",
     "iopub.status.busy": "2023-11-22T09:16:51.856744Z",
     "iopub.status.idle": "2023-11-22T09:16:51.864405Z",
     "shell.execute_reply": "2023-11-22T09:16:51.863636Z",
     "shell.execute_reply.started": "2023-11-22T09:16:51.856916Z"
    }
   },
   "outputs": [],
   "source": [
    "s_stemmer = SnowballStemmer(language='english')"
   ]
  },
  {
   "cell_type": "code",
   "execution_count": 9,
   "metadata": {
    "execution": {
     "iopub.execute_input": "2023-11-22T09:16:51.865852Z",
     "iopub.status.busy": "2023-11-22T09:16:51.865576Z",
     "iopub.status.idle": "2023-11-22T09:16:51.874711Z",
     "shell.execute_reply": "2023-11-22T09:16:51.873895Z",
     "shell.execute_reply.started": "2023-11-22T09:16:51.865816Z"
    }
   },
   "outputs": [],
   "source": [
    "words = ['run', 'runner', 'ran', 'runs', 'easily', 'fairly', 'fairness','boats','boating']"
   ]
  },
  {
   "cell_type": "code",
   "execution_count": 10,
   "metadata": {
    "execution": {
     "iopub.execute_input": "2023-11-22T09:16:51.876097Z",
     "iopub.status.busy": "2023-11-22T09:16:51.875688Z",
     "iopub.status.idle": "2023-11-22T09:16:51.888906Z",
     "shell.execute_reply": "2023-11-22T09:16:51.888171Z",
     "shell.execute_reply.started": "2023-11-22T09:16:51.876058Z"
    }
   },
   "outputs": [
    {
     "name": "stdout",
     "output_type": "stream",
     "text": [
      "run ------> run\n",
      "runner ------> runner\n",
      "ran ------> ran\n",
      "runs ------> run\n",
      "easily ------> easili\n",
      "fairly ------> fair\n",
      "fairness ------> fair\n",
      "boats ------> boat\n",
      "boating ------> boat\n"
     ]
    }
   ],
   "source": [
    "for word in words:\n",
    "    print(word+ ' ------> ' + s_stemmer.stem(word))"
   ]
  },
  {
   "cell_type": "markdown",
   "metadata": {},
   "source": [
    "Now, let's look about Lemmatization"
   ]
  },
  {
   "cell_type": "markdown",
   "metadata": {},
   "source": [
    "### Lemmatization example"
   ]
  },
  {
   "cell_type": "markdown",
   "metadata": {},
   "source": [
    "In constrast with stemming, Lemmatization looks beyond word reduction, and considers a language's full vocabulary to apply a morphological analysis to words."
   ]
  },
  {
   "cell_type": "code",
   "execution_count": 11,
   "metadata": {
    "execution": {
     "iopub.execute_input": "2023-11-22T09:16:51.892000Z",
     "iopub.status.busy": "2023-11-22T09:16:51.891792Z",
     "iopub.status.idle": "2023-11-22T09:16:51.897893Z",
     "shell.execute_reply": "2023-11-22T09:16:51.897076Z",
     "shell.execute_reply.started": "2023-11-22T09:16:51.891975Z"
    }
   },
   "outputs": [],
   "source": [
    "# Function to display lemmas\n",
    "def show_lemmas(text):\n",
    "    for token in text:\n",
    "        print(f'{token.text:{12}} {token.pos_:{6}} {token.lemma:<{22}} {token.lemma_}')"
   ]
  },
  {
   "cell_type": "code",
   "execution_count": 12,
   "metadata": {
    "execution": {
     "iopub.execute_input": "2023-11-22T09:16:51.899121Z",
     "iopub.status.busy": "2023-11-22T09:16:51.898874Z",
     "iopub.status.idle": "2023-11-22T09:16:51.927535Z",
     "shell.execute_reply": "2023-11-22T09:16:51.926798Z",
     "shell.execute_reply.started": "2023-11-22T09:16:51.899095Z"
    }
   },
   "outputs": [
    {
     "name": "stdout",
     "output_type": "stream",
     "text": [
      "I            PRON   4690420944186131903    I\n",
      "saw          VERB   11925638236994514241   see\n",
      "eighteen     NUM    9609336664675087640    eighteen\n",
      "mice         NOUN   1384165645700560590    mouse\n",
      "today        NOUN   11042482332948150395   today\n",
      "!            PUNCT  17494803046312582752   !\n"
     ]
    }
   ],
   "source": [
    "doc = nlp(u\"I saw eighteen mice today!\")\n",
    "show_lemmas(doc)"
   ]
  },
  {
   "cell_type": "code",
   "execution_count": 13,
   "metadata": {
    "execution": {
     "iopub.execute_input": "2023-11-22T09:16:51.929182Z",
     "iopub.status.busy": "2023-11-22T09:16:51.928921Z",
     "iopub.status.idle": "2023-11-22T09:16:51.942854Z",
     "shell.execute_reply": "2023-11-22T09:16:51.942170Z",
     "shell.execute_reply.started": "2023-11-22T09:16:51.929147Z"
    }
   },
   "outputs": [
    {
     "name": "stdout",
     "output_type": "stream",
     "text": [
      "I            PRON   4690420944186131903    I\n",
      "am           AUX    10382539506755952630   be\n",
      "meeting      VERB   6880656908171229526    meet\n",
      "him          PRON   1655312771067108281    he\n",
      "tomorrow     NOUN   3573583789758258062    tomorrow\n",
      "at           ADP    11667289587015813222   at\n",
      "the          DET    7425985699627899538    the\n",
      "meeting      NOUN   14798207169164081740   meeting\n",
      ".            PUNCT  12646065887601541794   .\n"
     ]
    }
   ],
   "source": [
    "doc = nlp(u\"I am meeting him tomorrow at the meeting.\")\n",
    "show_lemmas(doc)"
   ]
  },
  {
   "cell_type": "markdown",
   "metadata": {},
   "source": [
    "Now it's time to talk about Text Feature Extraction"
   ]
  },
  {
   "cell_type": "markdown",
   "metadata": {},
   "source": [
    "# Text Feature Extraction"
   ]
  },
  {
   "cell_type": "markdown",
   "metadata": {},
   "source": [
    "After preprocess data it's time to extract features from the text in order to prepare the machine learning model"
   ]
  },
  {
   "cell_type": "code",
   "execution_count": 14,
   "metadata": {
    "execution": {
     "iopub.execute_input": "2023-11-22T09:16:51.944467Z",
     "iopub.status.busy": "2023-11-22T09:16:51.944109Z",
     "iopub.status.idle": "2023-11-22T09:16:51.948483Z",
     "shell.execute_reply": "2023-11-22T09:16:51.947732Z",
     "shell.execute_reply.started": "2023-11-22T09:16:51.944430Z"
    }
   },
   "outputs": [],
   "source": [
    "count_vect = CountVectorizer()"
   ]
  },
  {
   "cell_type": "code",
   "execution_count": 15,
   "metadata": {
    "execution": {
     "iopub.execute_input": "2023-11-22T09:16:51.949886Z",
     "iopub.status.busy": "2023-11-22T09:16:51.949617Z",
     "iopub.status.idle": "2023-11-22T09:16:51.957655Z",
     "shell.execute_reply": "2023-11-22T09:16:51.956976Z",
     "shell.execute_reply.started": "2023-11-22T09:16:51.949851Z"
    }
   },
   "outputs": [],
   "source": [
    "phrase = [\"I'd like to have a glass of water please\"]"
   ]
  },
  {
   "cell_type": "code",
   "execution_count": 16,
   "metadata": {
    "execution": {
     "iopub.execute_input": "2023-11-22T09:16:51.959093Z",
     "iopub.status.busy": "2023-11-22T09:16:51.958770Z",
     "iopub.status.idle": "2023-11-22T09:16:51.971885Z",
     "shell.execute_reply": "2023-11-22T09:16:51.971131Z",
     "shell.execute_reply.started": "2023-11-22T09:16:51.959058Z"
    }
   },
   "outputs": [
    {
     "data": {
      "text/plain": [
       "CountVectorizer()"
      ]
     },
     "execution_count": 16,
     "metadata": {},
     "output_type": "execute_result"
    }
   ],
   "source": [
    "# Fit Vectorizer to the Data (build a vocab, count the number of words...)\n",
    "# Learn a vocabulary dictionary of all tokens in the raw documents\n",
    "count_vect.fit(phrase)"
   ]
  },
  {
   "cell_type": "code",
   "execution_count": 17,
   "metadata": {
    "execution": {
     "iopub.execute_input": "2023-11-22T09:16:51.973097Z",
     "iopub.status.busy": "2023-11-22T09:16:51.972892Z",
     "iopub.status.idle": "2023-11-22T09:16:51.981522Z",
     "shell.execute_reply": "2023-11-22T09:16:51.980779Z",
     "shell.execute_reply.started": "2023-11-22T09:16:51.973071Z"
    }
   },
   "outputs": [
    {
     "data": {
      "text/plain": [
       "['glass', 'have', 'like', 'of', 'please', 'to', 'water']"
      ]
     },
     "execution_count": 17,
     "metadata": {},
     "output_type": "execute_result"
    }
   ],
   "source": [
    "# Show features\n",
    "count_vect.get_feature_names()"
   ]
  },
  {
   "cell_type": "code",
   "execution_count": 18,
   "metadata": {
    "execution": {
     "iopub.execute_input": "2023-11-22T09:16:51.982757Z",
     "iopub.status.busy": "2023-11-22T09:16:51.982535Z",
     "iopub.status.idle": "2023-11-22T09:16:51.994003Z",
     "shell.execute_reply": "2023-11-22T09:16:51.993201Z",
     "shell.execute_reply.started": "2023-11-22T09:16:51.982732Z"
    }
   },
   "outputs": [
    {
     "data": {
      "text/plain": [
       "<1x7 sparse matrix of type '<class 'numpy.int64'>'\n",
       "\twith 7 stored elements in Compressed Sparse Row format>"
      ]
     },
     "execution_count": 18,
     "metadata": {},
     "output_type": "execute_result"
    }
   ],
   "source": [
    "# Learn the vocabulary dictionary and return document-term matrix\n",
    "count_vect.fit_transform(phrase)"
   ]
  },
  {
   "cell_type": "code",
   "execution_count": 19,
   "metadata": {
    "execution": {
     "iopub.execute_input": "2023-11-22T09:16:51.997141Z",
     "iopub.status.busy": "2023-11-22T09:16:51.996887Z",
     "iopub.status.idle": "2023-11-22T09:16:52.005651Z",
     "shell.execute_reply": "2023-11-22T09:16:52.004902Z",
     "shell.execute_reply.started": "2023-11-22T09:16:51.997114Z"
    }
   },
   "outputs": [
    {
     "data": {
      "text/plain": [
       "{'like': 2, 'to': 5, 'have': 1, 'glass': 0, 'of': 3, 'water': 6, 'please': 4}"
      ]
     },
     "execution_count": 19,
     "metadata": {},
     "output_type": "execute_result"
    }
   ],
   "source": [
    "# shows a mapping of terms to feature indices.\n",
    "count_vect.vocabulary_"
   ]
  },
  {
   "cell_type": "markdown",
   "metadata": {},
   "source": [
    "## TfidVectorizer"
   ]
  },
  {
   "cell_type": "markdown",
   "metadata": {},
   "source": [
    "An alternative to CountVectorizer is the TfidVectorizer"
   ]
  },
  {
   "cell_type": "markdown",
   "metadata": {},
   "source": [
    "TfidVectorizer calculates an inverse frequency for each word"
   ]
  },
  {
   "cell_type": "markdown",
   "metadata": {},
   "source": [
    "# Read the dataset into a pandas dataframe"
   ]
  },
  {
   "cell_type": "markdown",
   "metadata": {},
   "source": [
    "Now it's time to read the dataset and make a simple exploratory analysis"
   ]
  },
  {
   "cell_type": "code",
   "execution_count": 20,
   "metadata": {
    "execution": {
     "iopub.execute_input": "2023-11-22T09:16:52.006851Z",
     "iopub.status.busy": "2023-11-22T09:16:52.006628Z",
     "iopub.status.idle": "2023-11-22T09:16:59.444770Z",
     "shell.execute_reply": "2023-11-22T09:16:59.443900Z",
     "shell.execute_reply.started": "2023-11-22T09:16:52.006824Z"
    }
   },
   "outputs": [],
   "source": [
    "df = pd.read_csv('/kaggle/input/mbti-personality-types-500-dataset/MBTI 500.csv')"
   ]
  },
  {
   "cell_type": "code",
   "execution_count": 21,
   "metadata": {
    "execution": {
     "iopub.execute_input": "2023-11-22T09:16:59.446084Z",
     "iopub.status.busy": "2023-11-22T09:16:59.445859Z",
     "iopub.status.idle": "2023-11-22T09:16:59.460545Z",
     "shell.execute_reply": "2023-11-22T09:16:59.459546Z",
     "shell.execute_reply.started": "2023-11-22T09:16:59.446055Z"
    }
   },
   "outputs": [
    {
     "data": {
      "text/html": [
       "<div>\n",
       "<style scoped>\n",
       "    .dataframe tbody tr th:only-of-type {\n",
       "        vertical-align: middle;\n",
       "    }\n",
       "\n",
       "    .dataframe tbody tr th {\n",
       "        vertical-align: top;\n",
       "    }\n",
       "\n",
       "    .dataframe thead th {\n",
       "        text-align: right;\n",
       "    }\n",
       "</style>\n",
       "<table border=\"1\" class=\"dataframe\">\n",
       "  <thead>\n",
       "    <tr style=\"text-align: right;\">\n",
       "      <th></th>\n",
       "      <th>posts</th>\n",
       "      <th>type</th>\n",
       "    </tr>\n",
       "  </thead>\n",
       "  <tbody>\n",
       "    <tr>\n",
       "      <th>0</th>\n",
       "      <td>know intj tool use interaction people excuse a...</td>\n",
       "      <td>INTJ</td>\n",
       "    </tr>\n",
       "    <tr>\n",
       "      <th>1</th>\n",
       "      <td>rap music ehh opp yeah know valid well know fa...</td>\n",
       "      <td>INTJ</td>\n",
       "    </tr>\n",
       "    <tr>\n",
       "      <th>2</th>\n",
       "      <td>preferably p hd low except wew lad video p min...</td>\n",
       "      <td>INTJ</td>\n",
       "    </tr>\n",
       "    <tr>\n",
       "      <th>3</th>\n",
       "      <td>drink like wish could drink red wine give head...</td>\n",
       "      <td>INTJ</td>\n",
       "    </tr>\n",
       "    <tr>\n",
       "      <th>4</th>\n",
       "      <td>space program ah bad deal meing freelance max ...</td>\n",
       "      <td>INTJ</td>\n",
       "    </tr>\n",
       "  </tbody>\n",
       "</table>\n",
       "</div>"
      ],
      "text/plain": [
       "                                               posts  type\n",
       "0  know intj tool use interaction people excuse a...  INTJ\n",
       "1  rap music ehh opp yeah know valid well know fa...  INTJ\n",
       "2  preferably p hd low except wew lad video p min...  INTJ\n",
       "3  drink like wish could drink red wine give head...  INTJ\n",
       "4  space program ah bad deal meing freelance max ...  INTJ"
      ]
     },
     "execution_count": 21,
     "metadata": {},
     "output_type": "execute_result"
    }
   ],
   "source": [
    "df.head()"
   ]
  },
  {
   "cell_type": "code",
   "execution_count": 22,
   "metadata": {
    "execution": {
     "iopub.execute_input": "2023-11-22T09:16:59.461740Z",
     "iopub.status.busy": "2023-11-22T09:16:59.461530Z",
     "iopub.status.idle": "2023-11-22T09:16:59.470975Z",
     "shell.execute_reply": "2023-11-22T09:16:59.470203Z",
     "shell.execute_reply.started": "2023-11-22T09:16:59.461713Z"
    }
   },
   "outputs": [
    {
     "data": {
      "text/plain": [
       "'know intj tool use interaction people excuse antisocial truly enlighten mastermind know would count pet peeze something time matter people either whether group people mall never see best friend sit outside conversation jsut listen want interject sit formulate say wait inject argument thought find fascinate sit watch people talk people fascinate sit class watch different people find intrigue dad intj u stand look like line safeway watch people home talk people like think military job people voluntarily go job important show deference endanger live glorify way civilian think pretty ignorant general think military necessary defense mechanism political tactic feel like u specifically invest much money could put money education whatnot though personally sound budget aernative really comment one way base two politician eye year ago come name somewhat important kinda role model nowadays pick keep score individual level mean little vary accord number condition day may score high others low sweat really good cast physiotherapist like fiberglass cast break arm whatever sometimes want take picture beast put someone arm sadly people blind brilliance need tell directly wave arm frantically totally beyond oblivious get good eye contact help lot start find like attention get opposite sex notice however gay men tend little aggressive always walk away flatter like alcohol bad start generally keep go pas run money even mention fact crave cocaine drink political power mainly desire form power okay status still never study day life never learn study feel like real whatever reason college prepare recieve people like depend career introductory course help start rid bike write essay etc choose career least stimulate mind expand perspective reality without college like kiss sound ear yup roll end quite strange confession time mind wish people le judgemental self perceive flaw run situation person confess something expect judge one way another freak realize judge gasp human interpret acknowledgement sign terrible person agree bad impulse ditch safe place quickly become somewhere dump emotional trash gui free interest play role mind noise midnight still go make really cranky lol already know autistic even know asd associate intj people mind two even remotely similar card conspiracy hallmark post office long enough people whether individual people government conglomerate corporation understand biodiversity something need fund even though make money instead insurance policy fine aka negative external form cost need separate positive surplus cost much thing like seed bank visualize cost percent farm benefit cost yet need fund separately individual farmer individual farmer corporation think well someone else people free rider problem seed bank never get set stuff like government capitalism may provide innovation government set regulation prevent negative consequence unintentional externality seed bank get set half thousand differents solution perhaps general tax commerce usage fee similar california recycle fee electronics form donation pledge system regardless need get seed bank get expert truely know enough need biodiversity seed farm whether enough seed farm different location properly fund amp bsp say expert know enough due single college class involve economics say economic class involve lot history use case study green revolution'"
      ]
     },
     "execution_count": 22,
     "metadata": {},
     "output_type": "execute_result"
    }
   ],
   "source": [
    "df['posts'][0]"
   ]
  },
  {
   "cell_type": "code",
   "execution_count": 23,
   "metadata": {
    "execution": {
     "iopub.execute_input": "2023-11-22T09:16:59.472741Z",
     "iopub.status.busy": "2023-11-22T09:16:59.472393Z",
     "iopub.status.idle": "2023-11-22T09:16:59.481190Z",
     "shell.execute_reply": "2023-11-22T09:16:59.480383Z",
     "shell.execute_reply.started": "2023-11-22T09:16:59.472704Z"
    }
   },
   "outputs": [
    {
     "data": {
      "text/plain": [
       "'INTJ'"
      ]
     },
     "execution_count": 23,
     "metadata": {},
     "output_type": "execute_result"
    }
   ],
   "source": [
    "df['type'][0]"
   ]
  },
  {
   "cell_type": "code",
   "execution_count": 24,
   "metadata": {
    "execution": {
     "iopub.execute_input": "2023-11-22T09:16:59.482921Z",
     "iopub.status.busy": "2023-11-22T09:16:59.482553Z",
     "iopub.status.idle": "2023-11-22T09:16:59.503146Z",
     "shell.execute_reply": "2023-11-22T09:16:59.502396Z",
     "shell.execute_reply.started": "2023-11-22T09:16:59.482878Z"
    }
   },
   "outputs": [
    {
     "data": {
      "text/plain": [
       "array(['INTJ', 'INTP', 'ISFJ', 'ISFP', 'ISTJ', 'ISTP', 'ENFJ', 'ENFP',\n",
       "       'ENTJ', 'ENTP', 'ESFJ', 'ESFP', 'ESTJ', 'ESTP', 'INFJ', 'INFP'],\n",
       "      dtype=object)"
      ]
     },
     "execution_count": 24,
     "metadata": {},
     "output_type": "execute_result"
    }
   ],
   "source": [
    "df['type'].unique()"
   ]
  },
  {
   "cell_type": "code",
   "execution_count": 25,
   "metadata": {
    "execution": {
     "iopub.execute_input": "2023-11-22T09:16:59.504488Z",
     "iopub.status.busy": "2023-11-22T09:16:59.504247Z",
     "iopub.status.idle": "2023-11-22T09:16:59.512418Z",
     "shell.execute_reply": "2023-11-22T09:16:59.511392Z",
     "shell.execute_reply.started": "2023-11-22T09:16:59.504460Z"
    }
   },
   "outputs": [
    {
     "data": {
      "text/plain": [
       "'INTJ'"
      ]
     },
     "execution_count": 25,
     "metadata": {},
     "output_type": "execute_result"
    }
   ],
   "source": [
    "df['type'][2]"
   ]
  },
  {
   "cell_type": "code",
   "execution_count": 26,
   "metadata": {
    "execution": {
     "iopub.execute_input": "2023-11-22T09:16:59.513779Z",
     "iopub.status.busy": "2023-11-22T09:16:59.513543Z",
     "iopub.status.idle": "2023-11-22T09:16:59.533560Z",
     "shell.execute_reply": "2023-11-22T09:16:59.532733Z",
     "shell.execute_reply.started": "2023-11-22T09:16:59.513751Z"
    }
   },
   "outputs": [
    {
     "name": "stdout",
     "output_type": "stream",
     "text": [
      "Total of 16 types of classified MBTI posts\n"
     ]
    }
   ],
   "source": [
    "print(f\"Total of {len(df['type'].unique())} types of classified MBTI posts\")"
   ]
  },
  {
   "cell_type": "markdown",
   "metadata": {},
   "source": [
    "# Checking null values"
   ]
  },
  {
   "cell_type": "code",
   "execution_count": 27,
   "metadata": {
    "execution": {
     "iopub.execute_input": "2023-11-22T09:16:59.535086Z",
     "iopub.status.busy": "2023-11-22T09:16:59.534826Z",
     "iopub.status.idle": "2023-11-22T09:16:59.574108Z",
     "shell.execute_reply": "2023-11-22T09:16:59.573307Z",
     "shell.execute_reply.started": "2023-11-22T09:16:59.535035Z"
    }
   },
   "outputs": [
    {
     "data": {
      "text/plain": [
       "posts    0\n",
       "type     0\n",
       "dtype: int64"
      ]
     },
     "execution_count": 27,
     "metadata": {},
     "output_type": "execute_result"
    }
   ],
   "source": [
    "df.isnull().sum()"
   ]
  },
  {
   "cell_type": "markdown",
   "metadata": {},
   "source": [
    "# Checking the number of posts per type"
   ]
  },
  {
   "cell_type": "code",
   "execution_count": 28,
   "metadata": {
    "execution": {
     "iopub.execute_input": "2023-11-22T09:16:59.575527Z",
     "iopub.status.busy": "2023-11-22T09:16:59.575271Z",
     "iopub.status.idle": "2023-11-22T09:16:59.717838Z",
     "shell.execute_reply": "2023-11-22T09:16:59.717062Z",
     "shell.execute_reply.started": "2023-11-22T09:16:59.575493Z"
    }
   },
   "outputs": [
    {
     "data": {
      "text/html": [
       "        <script type=\"text/javascript\">\n",
       "        window.PlotlyConfig = {MathJaxConfig: 'local'};\n",
       "        if (window.MathJax) {MathJax.Hub.Config({SVG: {font: \"STIX-Web\"}});}\n",
       "        if (typeof require !== 'undefined') {\n",
       "        require.undef(\"plotly\");\n",
       "        requirejs.config({\n",
       "            paths: {\n",
       "                'plotly': ['https://cdn.plot.ly/plotly-2.6.3.min']\n",
       "            }\n",
       "        });\n",
       "        require(['plotly'], function(Plotly) {\n",
       "            window._Plotly = Plotly;\n",
       "        });\n",
       "        }\n",
       "        </script>\n",
       "        "
      ]
     },
     "metadata": {},
     "output_type": "display_data"
    },
    {
     "data": {
      "text/html": [
       "<div>                            <div id=\"75132231-a5a7-451b-a599-043a753ab23d\" class=\"plotly-graph-div\" style=\"height:525px; width:100%;\"></div>            <script type=\"text/javascript\">                require([\"plotly\"], function(Plotly) {                    window.PLOTLYENV=window.PLOTLYENV || {};                                    if (document.getElementById(\"75132231-a5a7-451b-a599-043a753ab23d\")) {                    Plotly.newPlot(                        \"75132231-a5a7-451b-a599-043a753ab23d\",                        [{\"x\":[\"ENFJ\",\"ENFP\",\"ENTJ\",\"ENTP\",\"ESFJ\",\"ESFP\",\"ESTJ\",\"ESTP\",\"INFJ\",\"INFP\",\"INTJ\",\"INTP\",\"ISFJ\",\"ISFP\",\"ISTJ\",\"ISTP\"],\"y\":[1534,6167,2955,11725,181,360,482,1986,14963,12134,22427,24961,650,875,1243,3424],\"type\":\"bar\"}],                        {\"title\":{\"text\":\"MBTI # Classified Posts per Type\"},\"template\":{\"data\":{\"bar\":[{\"error_x\":{\"color\":\"#2a3f5f\"},\"error_y\":{\"color\":\"#2a3f5f\"},\"marker\":{\"line\":{\"color\":\"#E5ECF6\",\"width\":0.5},\"pattern\":{\"fillmode\":\"overlay\",\"size\":10,\"solidity\":0.2}},\"type\":\"bar\"}],\"barpolar\":[{\"marker\":{\"line\":{\"color\":\"#E5ECF6\",\"width\":0.5},\"pattern\":{\"fillmode\":\"overlay\",\"size\":10,\"solidity\":0.2}},\"type\":\"barpolar\"}],\"carpet\":[{\"aaxis\":{\"endlinecolor\":\"#2a3f5f\",\"gridcolor\":\"white\",\"linecolor\":\"white\",\"minorgridcolor\":\"white\",\"startlinecolor\":\"#2a3f5f\"},\"baxis\":{\"endlinecolor\":\"#2a3f5f\",\"gridcolor\":\"white\",\"linecolor\":\"white\",\"minorgridcolor\":\"white\",\"startlinecolor\":\"#2a3f5f\"},\"type\":\"carpet\"}],\"choropleth\":[{\"colorbar\":{\"outlinewidth\":0,\"ticks\":\"\"},\"type\":\"choropleth\"}],\"contour\":[{\"colorbar\":{\"outlinewidth\":0,\"ticks\":\"\"},\"colorscale\":[[0.0,\"#0d0887\"],[0.1111111111111111,\"#46039f\"],[0.2222222222222222,\"#7201a8\"],[0.3333333333333333,\"#9c179e\"],[0.4444444444444444,\"#bd3786\"],[0.5555555555555556,\"#d8576b\"],[0.6666666666666666,\"#ed7953\"],[0.7777777777777778,\"#fb9f3a\"],[0.8888888888888888,\"#fdca26\"],[1.0,\"#f0f921\"]],\"type\":\"contour\"}],\"contourcarpet\":[{\"colorbar\":{\"outlinewidth\":0,\"ticks\":\"\"},\"type\":\"contourcarpet\"}],\"heatmap\":[{\"colorbar\":{\"outlinewidth\":0,\"ticks\":\"\"},\"colorscale\":[[0.0,\"#0d0887\"],[0.1111111111111111,\"#46039f\"],[0.2222222222222222,\"#7201a8\"],[0.3333333333333333,\"#9c179e\"],[0.4444444444444444,\"#bd3786\"],[0.5555555555555556,\"#d8576b\"],[0.6666666666666666,\"#ed7953\"],[0.7777777777777778,\"#fb9f3a\"],[0.8888888888888888,\"#fdca26\"],[1.0,\"#f0f921\"]],\"type\":\"heatmap\"}],\"heatmapgl\":[{\"colorbar\":{\"outlinewidth\":0,\"ticks\":\"\"},\"colorscale\":[[0.0,\"#0d0887\"],[0.1111111111111111,\"#46039f\"],[0.2222222222222222,\"#7201a8\"],[0.3333333333333333,\"#9c179e\"],[0.4444444444444444,\"#bd3786\"],[0.5555555555555556,\"#d8576b\"],[0.6666666666666666,\"#ed7953\"],[0.7777777777777778,\"#fb9f3a\"],[0.8888888888888888,\"#fdca26\"],[1.0,\"#f0f921\"]],\"type\":\"heatmapgl\"}],\"histogram\":[{\"marker\":{\"pattern\":{\"fillmode\":\"overlay\",\"size\":10,\"solidity\":0.2}},\"type\":\"histogram\"}],\"histogram2d\":[{\"colorbar\":{\"outlinewidth\":0,\"ticks\":\"\"},\"colorscale\":[[0.0,\"#0d0887\"],[0.1111111111111111,\"#46039f\"],[0.2222222222222222,\"#7201a8\"],[0.3333333333333333,\"#9c179e\"],[0.4444444444444444,\"#bd3786\"],[0.5555555555555556,\"#d8576b\"],[0.6666666666666666,\"#ed7953\"],[0.7777777777777778,\"#fb9f3a\"],[0.8888888888888888,\"#fdca26\"],[1.0,\"#f0f921\"]],\"type\":\"histogram2d\"}],\"histogram2dcontour\":[{\"colorbar\":{\"outlinewidth\":0,\"ticks\":\"\"},\"colorscale\":[[0.0,\"#0d0887\"],[0.1111111111111111,\"#46039f\"],[0.2222222222222222,\"#7201a8\"],[0.3333333333333333,\"#9c179e\"],[0.4444444444444444,\"#bd3786\"],[0.5555555555555556,\"#d8576b\"],[0.6666666666666666,\"#ed7953\"],[0.7777777777777778,\"#fb9f3a\"],[0.8888888888888888,\"#fdca26\"],[1.0,\"#f0f921\"]],\"type\":\"histogram2dcontour\"}],\"mesh3d\":[{\"colorbar\":{\"outlinewidth\":0,\"ticks\":\"\"},\"type\":\"mesh3d\"}],\"parcoords\":[{\"line\":{\"colorbar\":{\"outlinewidth\":0,\"ticks\":\"\"}},\"type\":\"parcoords\"}],\"pie\":[{\"automargin\":true,\"type\":\"pie\"}],\"scatter\":[{\"marker\":{\"colorbar\":{\"outlinewidth\":0,\"ticks\":\"\"}},\"type\":\"scatter\"}],\"scatter3d\":[{\"line\":{\"colorbar\":{\"outlinewidth\":0,\"ticks\":\"\"}},\"marker\":{\"colorbar\":{\"outlinewidth\":0,\"ticks\":\"\"}},\"type\":\"scatter3d\"}],\"scattercarpet\":[{\"marker\":{\"colorbar\":{\"outlinewidth\":0,\"ticks\":\"\"}},\"type\":\"scattercarpet\"}],\"scattergeo\":[{\"marker\":{\"colorbar\":{\"outlinewidth\":0,\"ticks\":\"\"}},\"type\":\"scattergeo\"}],\"scattergl\":[{\"marker\":{\"colorbar\":{\"outlinewidth\":0,\"ticks\":\"\"}},\"type\":\"scattergl\"}],\"scattermapbox\":[{\"marker\":{\"colorbar\":{\"outlinewidth\":0,\"ticks\":\"\"}},\"type\":\"scattermapbox\"}],\"scatterpolar\":[{\"marker\":{\"colorbar\":{\"outlinewidth\":0,\"ticks\":\"\"}},\"type\":\"scatterpolar\"}],\"scatterpolargl\":[{\"marker\":{\"colorbar\":{\"outlinewidth\":0,\"ticks\":\"\"}},\"type\":\"scatterpolargl\"}],\"scatterternary\":[{\"marker\":{\"colorbar\":{\"outlinewidth\":0,\"ticks\":\"\"}},\"type\":\"scatterternary\"}],\"surface\":[{\"colorbar\":{\"outlinewidth\":0,\"ticks\":\"\"},\"colorscale\":[[0.0,\"#0d0887\"],[0.1111111111111111,\"#46039f\"],[0.2222222222222222,\"#7201a8\"],[0.3333333333333333,\"#9c179e\"],[0.4444444444444444,\"#bd3786\"],[0.5555555555555556,\"#d8576b\"],[0.6666666666666666,\"#ed7953\"],[0.7777777777777778,\"#fb9f3a\"],[0.8888888888888888,\"#fdca26\"],[1.0,\"#f0f921\"]],\"type\":\"surface\"}],\"table\":[{\"cells\":{\"fill\":{\"color\":\"#EBF0F8\"},\"line\":{\"color\":\"white\"}},\"header\":{\"fill\":{\"color\":\"#C8D4E3\"},\"line\":{\"color\":\"white\"}},\"type\":\"table\"}]},\"layout\":{\"annotationdefaults\":{\"arrowcolor\":\"#2a3f5f\",\"arrowhead\":0,\"arrowwidth\":1},\"autotypenumbers\":\"strict\",\"coloraxis\":{\"colorbar\":{\"outlinewidth\":0,\"ticks\":\"\"}},\"colorscale\":{\"diverging\":[[0,\"#8e0152\"],[0.1,\"#c51b7d\"],[0.2,\"#de77ae\"],[0.3,\"#f1b6da\"],[0.4,\"#fde0ef\"],[0.5,\"#f7f7f7\"],[0.6,\"#e6f5d0\"],[0.7,\"#b8e186\"],[0.8,\"#7fbc41\"],[0.9,\"#4d9221\"],[1,\"#276419\"]],\"sequential\":[[0.0,\"#0d0887\"],[0.1111111111111111,\"#46039f\"],[0.2222222222222222,\"#7201a8\"],[0.3333333333333333,\"#9c179e\"],[0.4444444444444444,\"#bd3786\"],[0.5555555555555556,\"#d8576b\"],[0.6666666666666666,\"#ed7953\"],[0.7777777777777778,\"#fb9f3a\"],[0.8888888888888888,\"#fdca26\"],[1.0,\"#f0f921\"]],\"sequentialminus\":[[0.0,\"#0d0887\"],[0.1111111111111111,\"#46039f\"],[0.2222222222222222,\"#7201a8\"],[0.3333333333333333,\"#9c179e\"],[0.4444444444444444,\"#bd3786\"],[0.5555555555555556,\"#d8576b\"],[0.6666666666666666,\"#ed7953\"],[0.7777777777777778,\"#fb9f3a\"],[0.8888888888888888,\"#fdca26\"],[1.0,\"#f0f921\"]]},\"colorway\":[\"#636efa\",\"#EF553B\",\"#00cc96\",\"#ab63fa\",\"#FFA15A\",\"#19d3f3\",\"#FF6692\",\"#B6E880\",\"#FF97FF\",\"#FECB52\"],\"font\":{\"color\":\"#2a3f5f\"},\"geo\":{\"bgcolor\":\"white\",\"lakecolor\":\"white\",\"landcolor\":\"#E5ECF6\",\"showlakes\":true,\"showland\":true,\"subunitcolor\":\"white\"},\"hoverlabel\":{\"align\":\"left\"},\"hovermode\":\"closest\",\"mapbox\":{\"style\":\"light\"},\"paper_bgcolor\":\"white\",\"plot_bgcolor\":\"#E5ECF6\",\"polar\":{\"angularaxis\":{\"gridcolor\":\"white\",\"linecolor\":\"white\",\"ticks\":\"\"},\"bgcolor\":\"#E5ECF6\",\"radialaxis\":{\"gridcolor\":\"white\",\"linecolor\":\"white\",\"ticks\":\"\"}},\"scene\":{\"xaxis\":{\"backgroundcolor\":\"#E5ECF6\",\"gridcolor\":\"white\",\"gridwidth\":2,\"linecolor\":\"white\",\"showbackground\":true,\"ticks\":\"\",\"zerolinecolor\":\"white\"},\"yaxis\":{\"backgroundcolor\":\"#E5ECF6\",\"gridcolor\":\"white\",\"gridwidth\":2,\"linecolor\":\"white\",\"showbackground\":true,\"ticks\":\"\",\"zerolinecolor\":\"white\"},\"zaxis\":{\"backgroundcolor\":\"#E5ECF6\",\"gridcolor\":\"white\",\"gridwidth\":2,\"linecolor\":\"white\",\"showbackground\":true,\"ticks\":\"\",\"zerolinecolor\":\"white\"}},\"shapedefaults\":{\"line\":{\"color\":\"#2a3f5f\"}},\"ternary\":{\"aaxis\":{\"gridcolor\":\"white\",\"linecolor\":\"white\",\"ticks\":\"\"},\"baxis\":{\"gridcolor\":\"white\",\"linecolor\":\"white\",\"ticks\":\"\"},\"bgcolor\":\"#E5ECF6\",\"caxis\":{\"gridcolor\":\"white\",\"linecolor\":\"white\",\"ticks\":\"\"}},\"title\":{\"x\":0.05},\"xaxis\":{\"automargin\":true,\"gridcolor\":\"white\",\"linecolor\":\"white\",\"ticks\":\"\",\"title\":{\"standoff\":15},\"zerolinecolor\":\"white\",\"zerolinewidth\":2},\"yaxis\":{\"automargin\":true,\"gridcolor\":\"white\",\"linecolor\":\"white\",\"ticks\":\"\",\"title\":{\"standoff\":15},\"zerolinecolor\":\"white\",\"zerolinewidth\":2}}}},                        {\"responsive\": true}                    ).then(function(){\n",
       "                            \n",
       "var gd = document.getElementById('75132231-a5a7-451b-a599-043a753ab23d');\n",
       "var x = new MutationObserver(function (mutations, observer) {{\n",
       "        var display = window.getComputedStyle(gd).display;\n",
       "        if (!display || display === 'none') {{\n",
       "            console.log([gd, 'removed!']);\n",
       "            Plotly.purge(gd);\n",
       "            observer.disconnect();\n",
       "        }}\n",
       "}});\n",
       "\n",
       "// Listen for the removal of the full notebook cells\n",
       "var notebookContainer = gd.closest('#notebook-container');\n",
       "if (notebookContainer) {{\n",
       "    x.observe(notebookContainer, {childList: true});\n",
       "}}\n",
       "\n",
       "// Listen for the clearing of the current output cell\n",
       "var outputEl = gd.closest('.output');\n",
       "if (outputEl) {{\n",
       "    x.observe(outputEl, {childList: true});\n",
       "}}\n",
       "\n",
       "                        })                };                });            </script>        </div>"
      ]
     },
     "metadata": {},
     "output_type": "display_data"
    }
   ],
   "source": [
    "df_bar_chart=df.groupby('type').count()\n",
    "\n",
    "\n",
    "trace1 = go.Bar(x=df_bar_chart.index, y=df_bar_chart['posts'])\n",
    "\n",
    "data = [trace1]\n",
    "layout = go.Layout(title='MBTI # Classified Posts per Type')\n",
    "\n",
    "fig = go.Figure(data=data, layout=layout)\n",
    "\n",
    "fig.show()"
   ]
  },
  {
   "cell_type": "markdown",
   "metadata": {},
   "source": [
    "# Recreate the model?"
   ]
  },
  {
   "cell_type": "markdown",
   "metadata": {},
   "source": [
    "This machine learning model takes it's time to train data\n",
    "\n",
    "To avoid waiting every time, We're going to use the feature dump/load from pickle"
   ]
  },
  {
   "cell_type": "code",
   "execution_count": 29,
   "metadata": {
    "execution": {
     "iopub.execute_input": "2023-11-22T09:16:59.719187Z",
     "iopub.status.busy": "2023-11-22T09:16:59.718962Z",
     "iopub.status.idle": "2023-11-22T09:16:59.722854Z",
     "shell.execute_reply": "2023-11-22T09:16:59.721996Z",
     "shell.execute_reply.started": "2023-11-22T09:16:59.719159Z"
    }
   },
   "outputs": [],
   "source": [
    "# Flag to re-create or not the machine learning model\n",
    "recreate_model=False"
   ]
  },
  {
   "cell_type": "code",
   "execution_count": 30,
   "metadata": {
    "execution": {
     "iopub.execute_input": "2023-11-22T09:16:59.724311Z",
     "iopub.status.busy": "2023-11-22T09:16:59.724014Z",
     "iopub.status.idle": "2023-11-22T09:16:59.732620Z",
     "shell.execute_reply": "2023-11-22T09:16:59.731860Z",
     "shell.execute_reply.started": "2023-11-22T09:16:59.724271Z"
    }
   },
   "outputs": [],
   "source": [
    "# We'll save the model into a file:\n",
    "filename = 'mbti_svm_v2.sav'"
   ]
  },
  {
   "cell_type": "code",
   "execution_count": 31,
   "metadata": {
    "execution": {
     "iopub.execute_input": "2023-11-22T09:16:59.734117Z",
     "iopub.status.busy": "2023-11-22T09:16:59.733636Z",
     "iopub.status.idle": "2023-11-22T09:16:59.742326Z",
     "shell.execute_reply": "2023-11-22T09:16:59.741552Z",
     "shell.execute_reply.started": "2023-11-22T09:16:59.734082Z"
    }
   },
   "outputs": [],
   "source": [
    "# If the model file doesn't exists\n",
    "if not os.path.isfile(filename):\n",
    "    recreate_model=True"
   ]
  },
  {
   "cell_type": "markdown",
   "metadata": {},
   "source": [
    "# Split the data into train and test"
   ]
  },
  {
   "cell_type": "code",
   "execution_count": 32,
   "metadata": {
    "execution": {
     "iopub.execute_input": "2023-11-22T09:16:59.747270Z",
     "iopub.status.busy": "2023-11-22T09:16:59.747025Z",
     "iopub.status.idle": "2023-11-22T09:16:59.773689Z",
     "shell.execute_reply": "2023-11-22T09:16:59.773131Z",
     "shell.execute_reply.started": "2023-11-22T09:16:59.747228Z"
    }
   },
   "outputs": [],
   "source": [
    "X = df['posts'] # features\n",
    "y = df['type']  # labels\n",
    "X_train, X_test, y_train, y_test = train_test_split(X, y, test_size=0.2, random_state=42)"
   ]
  },
  {
   "cell_type": "code",
   "execution_count": 33,
   "metadata": {
    "execution": {
     "iopub.execute_input": "2023-11-22T09:16:59.775124Z",
     "iopub.status.busy": "2023-11-22T09:16:59.774827Z",
     "iopub.status.idle": "2023-11-22T09:17:03.563812Z",
     "shell.execute_reply": "2023-11-22T09:17:03.562981Z",
     "shell.execute_reply.started": "2023-11-22T09:16:59.775089Z"
    }
   },
   "outputs": [
    {
     "data": {
      "application/vnd.jupyter.widget-view+json": {
       "model_id": "b41f99a38a5448e08b72f2b774a37374",
       "version_major": 2,
       "version_minor": 0
      },
      "text/plain": [
       "Downloading:   0%|          | 0.00/226k [00:00<?, ?B/s]"
      ]
     },
     "metadata": {},
     "output_type": "display_data"
    },
    {
     "data": {
      "application/vnd.jupyter.widget-view+json": {
       "model_id": "c66873a62d7a4ebbb723f0087c2a85a3",
       "version_major": 2,
       "version_minor": 0
      },
      "text/plain": [
       "Downloading:   0%|          | 0.00/28.0 [00:00<?, ?B/s]"
      ]
     },
     "metadata": {},
     "output_type": "display_data"
    },
    {
     "data": {
      "application/vnd.jupyter.widget-view+json": {
       "model_id": "9e3c89f1d5074d1b9694e3c380e336e4",
       "version_major": 2,
       "version_minor": 0
      },
      "text/plain": [
       "Downloading:   0%|          | 0.00/455k [00:00<?, ?B/s]"
      ]
     },
     "metadata": {},
     "output_type": "display_data"
    },
    {
     "data": {
      "application/vnd.jupyter.widget-view+json": {
       "model_id": "a77cd9d79dcc407e9b2fcf5351baac8b",
       "version_major": 2,
       "version_minor": 0
      },
      "text/plain": [
       "Downloading:   0%|          | 0.00/570 [00:00<?, ?B/s]"
      ]
     },
     "metadata": {},
     "output_type": "display_data"
    }
   ],
   "source": [
    "from sklearn.model_selection import train_test_split\n",
    "from sklearn.preprocessing import LabelEncoder\n",
    "from transformers import BertTokenizer, BertForSequenceClassification\n",
    "from torch.utils.data import DataLoader, TensorDataset\n",
    "from tqdm import tqdm\n",
    "import torch\n",
    "from torch import nn, optim\n",
    "\n",
    "# Assuming you have 'transformers' library installed, if not, you can install it using: pip install transformers\n",
    "\n",
    "# Combine both training and testing labels for encoding\n",
    "all_labels = y_train.append(y_test)\n",
    "\n",
    "# Encode the labels\n",
    "label_encoder = LabelEncoder()\n",
    "\n",
    "# Fit and transform on the combined set of labels\n",
    "all_labels_encoded = label_encoder.fit_transform(all_labels)\n",
    "\n",
    "# Split the encoded labels back into training and testing sets\n",
    "y_train_encoded = all_labels_encoded[:len(y_train)]\n",
    "y_test_encoded = all_labels_encoded[len(y_train):]\n",
    "\n",
    "# Tokenizing the input text\n",
    "tokenizer = BertTokenizer.from_pretrained('bert-base-uncased', do_lower_case=True)\n",
    "\n",
    "# Tokenizing and encoding the training data\n",
    "train_encodings = tokenizer(list(X_train), truncation=True, padding=True)\n",
    "test_encodings = tokenizer(list(X_test), truncation=True, padding=True)\n",
    "\n",
    "# Converting the data into PyTorch tensors\n",
    "train_dataset = TensorDataset(torch.tensor(train_encodings['input_ids']),\n",
    "                              torch.tensor(train_encodings['attention_mask']),\n",
    "                              torch.tensor(y_train_encoded))  # use the encoded labels\n",
    "\n",
    "test_dataset = TensorDataset(torch.tensor(test_encodings['input_ids']),\n",
    "                             torch.tensor(test_encodings['attention_mask']),\n",
    "                             torch.tensor(y_test_encoded))  # use the encoded labels\n",
    "\n",
    "# ... (rest of the code remains the same)\n"
   ]
  },
  {
   "cell_type": "code",
   "execution_count": 65,
   "metadata": {
    "execution": {
     "iopub.execute_input": "2023-11-22T14:48:02.013811Z",
     "iopub.status.busy": "2023-11-22T14:48:02.013283Z",
     "iopub.status.idle": "2023-11-22T14:48:02.020266Z",
     "shell.execute_reply": "2023-11-22T14:48:02.019569Z",
     "shell.execute_reply.started": "2023-11-22T14:48:02.013779Z"
    }
   },
   "outputs": [
    {
     "data": {
      "text/plain": [
       "['label_encoder.joblib']"
      ]
     },
     "execution_count": 65,
     "metadata": {},
     "output_type": "execute_result"
    }
   ],
   "source": [
    "from sklearn.preprocessing import LabelEncoder\n",
    "import joblib\n",
    "\n",
    "# Save the label encoder to a file\n",
    "joblib.dump(label_encoder, 'label_encoder.joblib')\n"
   ]
  },
  {
   "cell_type": "code",
   "execution_count": 34,
   "metadata": {
    "execution": {
     "iopub.execute_input": "2023-11-22T09:17:03.565785Z",
     "iopub.status.busy": "2023-11-22T09:17:03.565120Z",
     "iopub.status.idle": "2023-11-22T09:17:08.715015Z",
     "shell.execute_reply": "2023-11-22T09:17:08.714293Z",
     "shell.execute_reply.started": "2023-11-22T09:17:03.565744Z"
    }
   },
   "outputs": [],
   "source": [
    "Save the datasets\n",
    "torch.save(train_dataset, 'train_dataset.pth')\n",
    "torch.save(test_dataset, 'test_dataset.pth')\n",
    "\n",
    "# Load the datasets\n",
    "# train_dataset = torch.load('/kaggle/input/dataloader/train_dataset.pth')\n",
    "# test_dataset = torch.load('/kaggle/input/dataloader/test_dataset.pth')\n"
   ]
  },
  {
   "cell_type": "code",
   "execution_count": 35,
   "metadata": {
    "execution": {
     "iopub.execute_input": "2023-11-22T09:17:08.716767Z",
     "iopub.status.busy": "2023-11-22T09:17:08.716395Z",
     "iopub.status.idle": "2023-11-22T09:17:08.780181Z",
     "shell.execute_reply": "2023-11-22T09:17:08.779565Z",
     "shell.execute_reply.started": "2023-11-22T09:17:08.716725Z"
    }
   },
   "outputs": [],
   "source": [
    "from transformers import BertTokenizer\n",
    "\n",
    "Save the tokenizer\n",
    "tokenizer.save_pretrained('tokenizer')\n",
    "\n",
    "# Now you can use loaded_tokenizer in your code\n",
    "# tokenizer = BertTokenizer.from_pretrained('/kaggle/input/tokenizer')\n"
   ]
  },
  {
   "cell_type": "code",
   "execution_count": 36,
   "metadata": {
    "execution": {
     "iopub.execute_input": "2023-11-22T09:17:08.781540Z",
     "iopub.status.busy": "2023-11-22T09:17:08.781311Z",
     "iopub.status.idle": "2023-11-22T09:17:30.691758Z",
     "shell.execute_reply": "2023-11-22T09:17:30.690940Z",
     "shell.execute_reply.started": "2023-11-22T09:17:08.781513Z"
    }
   },
   "outputs": [
    {
     "data": {
      "application/vnd.jupyter.widget-view+json": {
       "model_id": "53c3d55e539e4c13abb01425a4c81229",
       "version_major": 2,
       "version_minor": 0
      },
      "text/plain": [
       "Downloading:   0%|          | 0.00/420M [00:00<?, ?B/s]"
      ]
     },
     "metadata": {},
     "output_type": "display_data"
    },
    {
     "name": "stderr",
     "output_type": "stream",
     "text": [
      "Some weights of the model checkpoint at bert-base-uncased were not used when initializing BertForSequenceClassification: ['cls.predictions.decoder.weight', 'cls.seq_relationship.bias', 'cls.predictions.transform.LayerNorm.weight', 'cls.predictions.bias', 'cls.predictions.transform.LayerNorm.bias', 'cls.predictions.transform.dense.bias', 'cls.predictions.transform.dense.weight', 'cls.seq_relationship.weight']\n",
      "- This IS expected if you are initializing BertForSequenceClassification from the checkpoint of a model trained on another task or with another architecture (e.g. initializing a BertForSequenceClassification model from a BertForPreTraining model).\n",
      "- This IS NOT expected if you are initializing BertForSequenceClassification from the checkpoint of a model that you expect to be exactly identical (initializing a BertForSequenceClassification model from a BertForSequenceClassification model).\n",
      "Some weights of BertForSequenceClassification were not initialized from the model checkpoint at bert-base-uncased and are newly initialized: ['classifier.weight', 'classifier.bias']\n",
      "You should probably TRAIN this model on a down-stream task to be able to use it for predictions and inference.\n"
     ]
    },
    {
     "data": {
      "text/plain": [
       "BertForSequenceClassification(\n",
       "  (bert): BertModel(\n",
       "    (embeddings): BertEmbeddings(\n",
       "      (word_embeddings): Embedding(30522, 768, padding_idx=0)\n",
       "      (position_embeddings): Embedding(512, 768)\n",
       "      (token_type_embeddings): Embedding(2, 768)\n",
       "      (LayerNorm): LayerNorm((768,), eps=1e-12, elementwise_affine=True)\n",
       "      (dropout): Dropout(p=0.1, inplace=False)\n",
       "    )\n",
       "    (encoder): BertEncoder(\n",
       "      (layer): ModuleList(\n",
       "        (0): BertLayer(\n",
       "          (attention): BertAttention(\n",
       "            (self): BertSelfAttention(\n",
       "              (query): Linear(in_features=768, out_features=768, bias=True)\n",
       "              (key): Linear(in_features=768, out_features=768, bias=True)\n",
       "              (value): Linear(in_features=768, out_features=768, bias=True)\n",
       "              (dropout): Dropout(p=0.1, inplace=False)\n",
       "            )\n",
       "            (output): BertSelfOutput(\n",
       "              (dense): Linear(in_features=768, out_features=768, bias=True)\n",
       "              (LayerNorm): LayerNorm((768,), eps=1e-12, elementwise_affine=True)\n",
       "              (dropout): Dropout(p=0.1, inplace=False)\n",
       "            )\n",
       "          )\n",
       "          (intermediate): BertIntermediate(\n",
       "            (dense): Linear(in_features=768, out_features=3072, bias=True)\n",
       "          )\n",
       "          (output): BertOutput(\n",
       "            (dense): Linear(in_features=3072, out_features=768, bias=True)\n",
       "            (LayerNorm): LayerNorm((768,), eps=1e-12, elementwise_affine=True)\n",
       "            (dropout): Dropout(p=0.1, inplace=False)\n",
       "          )\n",
       "        )\n",
       "        (1): BertLayer(\n",
       "          (attention): BertAttention(\n",
       "            (self): BertSelfAttention(\n",
       "              (query): Linear(in_features=768, out_features=768, bias=True)\n",
       "              (key): Linear(in_features=768, out_features=768, bias=True)\n",
       "              (value): Linear(in_features=768, out_features=768, bias=True)\n",
       "              (dropout): Dropout(p=0.1, inplace=False)\n",
       "            )\n",
       "            (output): BertSelfOutput(\n",
       "              (dense): Linear(in_features=768, out_features=768, bias=True)\n",
       "              (LayerNorm): LayerNorm((768,), eps=1e-12, elementwise_affine=True)\n",
       "              (dropout): Dropout(p=0.1, inplace=False)\n",
       "            )\n",
       "          )\n",
       "          (intermediate): BertIntermediate(\n",
       "            (dense): Linear(in_features=768, out_features=3072, bias=True)\n",
       "          )\n",
       "          (output): BertOutput(\n",
       "            (dense): Linear(in_features=3072, out_features=768, bias=True)\n",
       "            (LayerNorm): LayerNorm((768,), eps=1e-12, elementwise_affine=True)\n",
       "            (dropout): Dropout(p=0.1, inplace=False)\n",
       "          )\n",
       "        )\n",
       "        (2): BertLayer(\n",
       "          (attention): BertAttention(\n",
       "            (self): BertSelfAttention(\n",
       "              (query): Linear(in_features=768, out_features=768, bias=True)\n",
       "              (key): Linear(in_features=768, out_features=768, bias=True)\n",
       "              (value): Linear(in_features=768, out_features=768, bias=True)\n",
       "              (dropout): Dropout(p=0.1, inplace=False)\n",
       "            )\n",
       "            (output): BertSelfOutput(\n",
       "              (dense): Linear(in_features=768, out_features=768, bias=True)\n",
       "              (LayerNorm): LayerNorm((768,), eps=1e-12, elementwise_affine=True)\n",
       "              (dropout): Dropout(p=0.1, inplace=False)\n",
       "            )\n",
       "          )\n",
       "          (intermediate): BertIntermediate(\n",
       "            (dense): Linear(in_features=768, out_features=3072, bias=True)\n",
       "          )\n",
       "          (output): BertOutput(\n",
       "            (dense): Linear(in_features=3072, out_features=768, bias=True)\n",
       "            (LayerNorm): LayerNorm((768,), eps=1e-12, elementwise_affine=True)\n",
       "            (dropout): Dropout(p=0.1, inplace=False)\n",
       "          )\n",
       "        )\n",
       "        (3): BertLayer(\n",
       "          (attention): BertAttention(\n",
       "            (self): BertSelfAttention(\n",
       "              (query): Linear(in_features=768, out_features=768, bias=True)\n",
       "              (key): Linear(in_features=768, out_features=768, bias=True)\n",
       "              (value): Linear(in_features=768, out_features=768, bias=True)\n",
       "              (dropout): Dropout(p=0.1, inplace=False)\n",
       "            )\n",
       "            (output): BertSelfOutput(\n",
       "              (dense): Linear(in_features=768, out_features=768, bias=True)\n",
       "              (LayerNorm): LayerNorm((768,), eps=1e-12, elementwise_affine=True)\n",
       "              (dropout): Dropout(p=0.1, inplace=False)\n",
       "            )\n",
       "          )\n",
       "          (intermediate): BertIntermediate(\n",
       "            (dense): Linear(in_features=768, out_features=3072, bias=True)\n",
       "          )\n",
       "          (output): BertOutput(\n",
       "            (dense): Linear(in_features=3072, out_features=768, bias=True)\n",
       "            (LayerNorm): LayerNorm((768,), eps=1e-12, elementwise_affine=True)\n",
       "            (dropout): Dropout(p=0.1, inplace=False)\n",
       "          )\n",
       "        )\n",
       "        (4): BertLayer(\n",
       "          (attention): BertAttention(\n",
       "            (self): BertSelfAttention(\n",
       "              (query): Linear(in_features=768, out_features=768, bias=True)\n",
       "              (key): Linear(in_features=768, out_features=768, bias=True)\n",
       "              (value): Linear(in_features=768, out_features=768, bias=True)\n",
       "              (dropout): Dropout(p=0.1, inplace=False)\n",
       "            )\n",
       "            (output): BertSelfOutput(\n",
       "              (dense): Linear(in_features=768, out_features=768, bias=True)\n",
       "              (LayerNorm): LayerNorm((768,), eps=1e-12, elementwise_affine=True)\n",
       "              (dropout): Dropout(p=0.1, inplace=False)\n",
       "            )\n",
       "          )\n",
       "          (intermediate): BertIntermediate(\n",
       "            (dense): Linear(in_features=768, out_features=3072, bias=True)\n",
       "          )\n",
       "          (output): BertOutput(\n",
       "            (dense): Linear(in_features=3072, out_features=768, bias=True)\n",
       "            (LayerNorm): LayerNorm((768,), eps=1e-12, elementwise_affine=True)\n",
       "            (dropout): Dropout(p=0.1, inplace=False)\n",
       "          )\n",
       "        )\n",
       "        (5): BertLayer(\n",
       "          (attention): BertAttention(\n",
       "            (self): BertSelfAttention(\n",
       "              (query): Linear(in_features=768, out_features=768, bias=True)\n",
       "              (key): Linear(in_features=768, out_features=768, bias=True)\n",
       "              (value): Linear(in_features=768, out_features=768, bias=True)\n",
       "              (dropout): Dropout(p=0.1, inplace=False)\n",
       "            )\n",
       "            (output): BertSelfOutput(\n",
       "              (dense): Linear(in_features=768, out_features=768, bias=True)\n",
       "              (LayerNorm): LayerNorm((768,), eps=1e-12, elementwise_affine=True)\n",
       "              (dropout): Dropout(p=0.1, inplace=False)\n",
       "            )\n",
       "          )\n",
       "          (intermediate): BertIntermediate(\n",
       "            (dense): Linear(in_features=768, out_features=3072, bias=True)\n",
       "          )\n",
       "          (output): BertOutput(\n",
       "            (dense): Linear(in_features=3072, out_features=768, bias=True)\n",
       "            (LayerNorm): LayerNorm((768,), eps=1e-12, elementwise_affine=True)\n",
       "            (dropout): Dropout(p=0.1, inplace=False)\n",
       "          )\n",
       "        )\n",
       "        (6): BertLayer(\n",
       "          (attention): BertAttention(\n",
       "            (self): BertSelfAttention(\n",
       "              (query): Linear(in_features=768, out_features=768, bias=True)\n",
       "              (key): Linear(in_features=768, out_features=768, bias=True)\n",
       "              (value): Linear(in_features=768, out_features=768, bias=True)\n",
       "              (dropout): Dropout(p=0.1, inplace=False)\n",
       "            )\n",
       "            (output): BertSelfOutput(\n",
       "              (dense): Linear(in_features=768, out_features=768, bias=True)\n",
       "              (LayerNorm): LayerNorm((768,), eps=1e-12, elementwise_affine=True)\n",
       "              (dropout): Dropout(p=0.1, inplace=False)\n",
       "            )\n",
       "          )\n",
       "          (intermediate): BertIntermediate(\n",
       "            (dense): Linear(in_features=768, out_features=3072, bias=True)\n",
       "          )\n",
       "          (output): BertOutput(\n",
       "            (dense): Linear(in_features=3072, out_features=768, bias=True)\n",
       "            (LayerNorm): LayerNorm((768,), eps=1e-12, elementwise_affine=True)\n",
       "            (dropout): Dropout(p=0.1, inplace=False)\n",
       "          )\n",
       "        )\n",
       "        (7): BertLayer(\n",
       "          (attention): BertAttention(\n",
       "            (self): BertSelfAttention(\n",
       "              (query): Linear(in_features=768, out_features=768, bias=True)\n",
       "              (key): Linear(in_features=768, out_features=768, bias=True)\n",
       "              (value): Linear(in_features=768, out_features=768, bias=True)\n",
       "              (dropout): Dropout(p=0.1, inplace=False)\n",
       "            )\n",
       "            (output): BertSelfOutput(\n",
       "              (dense): Linear(in_features=768, out_features=768, bias=True)\n",
       "              (LayerNorm): LayerNorm((768,), eps=1e-12, elementwise_affine=True)\n",
       "              (dropout): Dropout(p=0.1, inplace=False)\n",
       "            )\n",
       "          )\n",
       "          (intermediate): BertIntermediate(\n",
       "            (dense): Linear(in_features=768, out_features=3072, bias=True)\n",
       "          )\n",
       "          (output): BertOutput(\n",
       "            (dense): Linear(in_features=3072, out_features=768, bias=True)\n",
       "            (LayerNorm): LayerNorm((768,), eps=1e-12, elementwise_affine=True)\n",
       "            (dropout): Dropout(p=0.1, inplace=False)\n",
       "          )\n",
       "        )\n",
       "        (8): BertLayer(\n",
       "          (attention): BertAttention(\n",
       "            (self): BertSelfAttention(\n",
       "              (query): Linear(in_features=768, out_features=768, bias=True)\n",
       "              (key): Linear(in_features=768, out_features=768, bias=True)\n",
       "              (value): Linear(in_features=768, out_features=768, bias=True)\n",
       "              (dropout): Dropout(p=0.1, inplace=False)\n",
       "            )\n",
       "            (output): BertSelfOutput(\n",
       "              (dense): Linear(in_features=768, out_features=768, bias=True)\n",
       "              (LayerNorm): LayerNorm((768,), eps=1e-12, elementwise_affine=True)\n",
       "              (dropout): Dropout(p=0.1, inplace=False)\n",
       "            )\n",
       "          )\n",
       "          (intermediate): BertIntermediate(\n",
       "            (dense): Linear(in_features=768, out_features=3072, bias=True)\n",
       "          )\n",
       "          (output): BertOutput(\n",
       "            (dense): Linear(in_features=3072, out_features=768, bias=True)\n",
       "            (LayerNorm): LayerNorm((768,), eps=1e-12, elementwise_affine=True)\n",
       "            (dropout): Dropout(p=0.1, inplace=False)\n",
       "          )\n",
       "        )\n",
       "        (9): BertLayer(\n",
       "          (attention): BertAttention(\n",
       "            (self): BertSelfAttention(\n",
       "              (query): Linear(in_features=768, out_features=768, bias=True)\n",
       "              (key): Linear(in_features=768, out_features=768, bias=True)\n",
       "              (value): Linear(in_features=768, out_features=768, bias=True)\n",
       "              (dropout): Dropout(p=0.1, inplace=False)\n",
       "            )\n",
       "            (output): BertSelfOutput(\n",
       "              (dense): Linear(in_features=768, out_features=768, bias=True)\n",
       "              (LayerNorm): LayerNorm((768,), eps=1e-12, elementwise_affine=True)\n",
       "              (dropout): Dropout(p=0.1, inplace=False)\n",
       "            )\n",
       "          )\n",
       "          (intermediate): BertIntermediate(\n",
       "            (dense): Linear(in_features=768, out_features=3072, bias=True)\n",
       "          )\n",
       "          (output): BertOutput(\n",
       "            (dense): Linear(in_features=3072, out_features=768, bias=True)\n",
       "            (LayerNorm): LayerNorm((768,), eps=1e-12, elementwise_affine=True)\n",
       "            (dropout): Dropout(p=0.1, inplace=False)\n",
       "          )\n",
       "        )\n",
       "        (10): BertLayer(\n",
       "          (attention): BertAttention(\n",
       "            (self): BertSelfAttention(\n",
       "              (query): Linear(in_features=768, out_features=768, bias=True)\n",
       "              (key): Linear(in_features=768, out_features=768, bias=True)\n",
       "              (value): Linear(in_features=768, out_features=768, bias=True)\n",
       "              (dropout): Dropout(p=0.1, inplace=False)\n",
       "            )\n",
       "            (output): BertSelfOutput(\n",
       "              (dense): Linear(in_features=768, out_features=768, bias=True)\n",
       "              (LayerNorm): LayerNorm((768,), eps=1e-12, elementwise_affine=True)\n",
       "              (dropout): Dropout(p=0.1, inplace=False)\n",
       "            )\n",
       "          )\n",
       "          (intermediate): BertIntermediate(\n",
       "            (dense): Linear(in_features=768, out_features=3072, bias=True)\n",
       "          )\n",
       "          (output): BertOutput(\n",
       "            (dense): Linear(in_features=3072, out_features=768, bias=True)\n",
       "            (LayerNorm): LayerNorm((768,), eps=1e-12, elementwise_affine=True)\n",
       "            (dropout): Dropout(p=0.1, inplace=False)\n",
       "          )\n",
       "        )\n",
       "        (11): BertLayer(\n",
       "          (attention): BertAttention(\n",
       "            (self): BertSelfAttention(\n",
       "              (query): Linear(in_features=768, out_features=768, bias=True)\n",
       "              (key): Linear(in_features=768, out_features=768, bias=True)\n",
       "              (value): Linear(in_features=768, out_features=768, bias=True)\n",
       "              (dropout): Dropout(p=0.1, inplace=False)\n",
       "            )\n",
       "            (output): BertSelfOutput(\n",
       "              (dense): Linear(in_features=768, out_features=768, bias=True)\n",
       "              (LayerNorm): LayerNorm((768,), eps=1e-12, elementwise_affine=True)\n",
       "              (dropout): Dropout(p=0.1, inplace=False)\n",
       "            )\n",
       "          )\n",
       "          (intermediate): BertIntermediate(\n",
       "            (dense): Linear(in_features=768, out_features=3072, bias=True)\n",
       "          )\n",
       "          (output): BertOutput(\n",
       "            (dense): Linear(in_features=3072, out_features=768, bias=True)\n",
       "            (LayerNorm): LayerNorm((768,), eps=1e-12, elementwise_affine=True)\n",
       "            (dropout): Dropout(p=0.1, inplace=False)\n",
       "          )\n",
       "        )\n",
       "      )\n",
       "    )\n",
       "    (pooler): BertPooler(\n",
       "      (dense): Linear(in_features=768, out_features=768, bias=True)\n",
       "      (activation): Tanh()\n",
       "    )\n",
       "  )\n",
       "  (dropout): Dropout(p=0.1, inplace=False)\n",
       "  (classifier): Linear(in_features=768, out_features=7, bias=True)\n",
       ")"
      ]
     },
     "execution_count": 36,
     "metadata": {},
     "output_type": "execute_result"
    }
   ],
   "source": [
    "from transformers import BertTokenizer, BertForSequenceClassification\n",
    "\n",
    "# Defining the BERT model for sequence classification\n",
    "model = BertForSequenceClassification.from_pretrained('bert-base-uncased', num_labels=7)\n",
    "device = torch.device('cuda' if torch.cuda.is_available() else 'cpu')\n",
    "model.to(device)"
   ]
  },
  {
   "cell_type": "code",
   "execution_count": 37,
   "metadata": {
    "execution": {
     "iopub.execute_input": "2023-11-22T09:17:30.693249Z",
     "iopub.status.busy": "2023-11-22T09:17:30.692980Z",
     "iopub.status.idle": "2023-11-22T09:17:30.696981Z",
     "shell.execute_reply": "2023-11-22T09:17:30.696209Z",
     "shell.execute_reply.started": "2023-11-22T09:17:30.693215Z"
    }
   },
   "outputs": [],
   "source": [
    "# torch.cuda.empty_cache()\n",
    "# torch.cuda.empty()\n"
   ]
  },
  {
   "cell_type": "code",
   "execution_count": null,
   "metadata": {},
   "outputs": [],
   "source": [
    "\n",
    "# Defining the BERT model for sequence classification\n",
    "model = BertForSequenceClassification.from_pretrained('bert-base-uncased', num_labels=len(df['type'].unique()))\n",
    "\n",
    "# Defining the DataLoader for training and testing\n",
    "train_loader = DataLoader(train_dataset, batch_size=8, shuffle=True)\n",
    "test_loader = DataLoader(test_dataset, batch_size=8, shuffle=False)\n",
    "\n",
    "# Defining the optimizer and loss function\n",
    "optimizer = optim.AdamW(model.parameters(), lr=2e-5)\n",
    "criterion = nn.CrossEntropyLoss()\n",
    "\n",
    "# Training the model\n",
    "device = torch.device('cuda' if torch.cuda.is_available() else 'cpu')\n",
    "model.to(device)"
   ]
  },
  {
   "cell_type": "code",
   "execution_count": 42,
   "metadata": {
    "execution": {
     "iopub.execute_input": "2023-11-22T09:21:47.568942Z",
     "iopub.status.busy": "2023-11-22T09:21:47.568688Z",
     "iopub.status.idle": "2023-11-22T14:12:08.802139Z",
     "shell.execute_reply": "2023-11-22T14:12:08.801148Z",
     "shell.execute_reply.started": "2023-11-22T09:21:47.568916Z"
    }
   },
   "outputs": [
    {
     "name": "stderr",
     "output_type": "stream",
     "text": [
      "Epoch 1: 100%|██████████| 10607/10607 [58:18<00:00,  3.03it/s]\n"
     ]
    },
    {
     "name": "stdout",
     "output_type": "stream",
     "text": [
      "Epoch 1, Average Loss: 1.0514, Accuracy: 68.26%\n"
     ]
    },
    {
     "name": "stderr",
     "output_type": "stream",
     "text": [
      "Epoch 2: 100%|██████████| 10607/10607 [58:05<00:00,  3.04it/s]\n"
     ]
    },
    {
     "name": "stdout",
     "output_type": "stream",
     "text": [
      "Epoch 2, Average Loss: 0.7746, Accuracy: 76.31%\n"
     ]
    },
    {
     "name": "stderr",
     "output_type": "stream",
     "text": [
      "Epoch 3: 100%|██████████| 10607/10607 [58:00<00:00,  3.05it/s]\n"
     ]
    },
    {
     "name": "stdout",
     "output_type": "stream",
     "text": [
      "Epoch 3, Average Loss: 0.6868, Accuracy: 78.93%\n"
     ]
    },
    {
     "name": "stderr",
     "output_type": "stream",
     "text": [
      "Epoch 4: 100%|██████████| 10607/10607 [58:00<00:00,  3.05it/s]\n"
     ]
    },
    {
     "name": "stdout",
     "output_type": "stream",
     "text": [
      "Epoch 4, Average Loss: 0.6253, Accuracy: 80.92%\n"
     ]
    },
    {
     "name": "stderr",
     "output_type": "stream",
     "text": [
      "Epoch 5: 100%|██████████| 10607/10607 [57:56<00:00,  3.05it/s]"
     ]
    },
    {
     "name": "stdout",
     "output_type": "stream",
     "text": [
      "Epoch 5, Average Loss: 0.5743, Accuracy: 82.44%\n"
     ]
    },
    {
     "name": "stderr",
     "output_type": "stream",
     "text": [
      "\n"
     ]
    }
   ],
   "source": [
    "from torch.cuda.amp import autocast, GradScaler\n",
    "from transformers import AdamW\n",
    "from torch.optim.lr_scheduler import ReduceLROnPlateau\n",
    "\n",
    "optimizer = AdamW(model.parameters(), lr=5e-5)\n",
    "scheduler = ReduceLROnPlateau(optimizer, mode='min', factor=0.1, patience=1, verbose=True)\n",
    "scaler = GradScaler()\n",
    "\n",
    "# Training loop\n",
    "epochs = 5\n",
    "accumulation_steps = 4  # Adjust as needed\n",
    "batch_idx = 0  # Initialize batch index\n",
    "\n",
    "for epoch in range(epochs):\n",
    "    model.train()\n",
    "    total_loss = 0\n",
    "    correct_predictions = 0\n",
    "    total_samples = 0\n",
    "\n",
    "    for batch in tqdm(train_loader, desc=f'Epoch {epoch + 1}'):\n",
    "        batch = tuple(t.to(device) for t in batch)\n",
    "        inputs = {'input_ids': batch[0],\n",
    "                  'attention_mask': batch[1],\n",
    "                  'labels': batch[2]}\n",
    "\n",
    "        optimizer.zero_grad()\n",
    "\n",
    "        with autocast():\n",
    "            outputs = model(**inputs)\n",
    "            loss = outputs.loss\n",
    "\n",
    "        scaler.scale(loss).backward()\n",
    "\n",
    "        if (batch_idx + 1) % accumulation_steps == 0:\n",
    "            scaler.step(optimizer)\n",
    "            scaler.update()\n",
    "            optimizer.zero_grad()\n",
    "\n",
    "        total_loss += loss.item()\n",
    "\n",
    "        # Calculate accuracy\n",
    "        logits = outputs.logits\n",
    "        _, predicted = torch.max(logits, 1)\n",
    "        correct_predictions += (predicted == inputs['labels']).sum().item()\n",
    "        total_samples += inputs['labels'].size(0)\n",
    "\n",
    "        batch_idx += 1  # Increment batch index\n",
    "\n",
    "    average_loss = total_loss / len(train_loader)\n",
    "    accuracy = correct_predictions / total_samples * 100\n",
    "\n",
    "    print(f'Epoch {epoch + 1}, Average Loss: {average_loss:.4f}, Accuracy: {accuracy:.2f}%')\n",
    "\n",
    "    # Learning rate scheduler\n",
    "    scheduler.step(average_loss)\n"
   ]
  },
  {
   "cell_type": "code",
   "execution_count": 45,
   "metadata": {
    "execution": {
     "iopub.execute_input": "2023-11-22T14:13:15.189323Z",
     "iopub.status.busy": "2023-11-22T14:13:15.188691Z",
     "iopub.status.idle": "2023-11-22T14:13:15.812534Z",
     "shell.execute_reply": "2023-11-22T14:13:15.811892Z",
     "shell.execute_reply.started": "2023-11-22T14:13:15.189289Z"
    }
   },
   "outputs": [],
   "source": [
    "# Save the trained model\n",
    "torch.save(model.state_dict(), 'mbti-model.pth')"
   ]
  },
  {
   "cell_type": "code",
   "execution_count": 46,
   "metadata": {
    "execution": {
     "iopub.execute_input": "2023-11-22T14:15:03.367855Z",
     "iopub.status.busy": "2023-11-22T14:15:03.367053Z",
     "iopub.status.idle": "2023-11-22T14:15:03.981824Z",
     "shell.execute_reply": "2023-11-22T14:15:03.980973Z",
     "shell.execute_reply.started": "2023-11-22T14:15:03.367815Z"
    }
   },
   "outputs": [],
   "source": [
    "torch.save(model, 'mbti-model-complete.pth')\n"
   ]
  },
  {
   "cell_type": "code",
   "execution_count": null,
   "metadata": {},
   "outputs": [],
   "source": []
  },
  {
   "cell_type": "code",
   "execution_count": null,
   "metadata": {},
   "outputs": [],
   "source": [
    "\n",
    "# Evaluating the model\n",
    "model.eval()"
   ]
  },
  {
   "cell_type": "code",
   "execution_count": 51,
   "metadata": {
    "execution": {
     "iopub.execute_input": "2023-11-22T14:16:22.898376Z",
     "iopub.status.busy": "2023-11-22T14:16:22.897677Z",
     "iopub.status.idle": "2023-11-22T14:28:22.857370Z",
     "shell.execute_reply": "2023-11-22T14:28:22.856670Z",
     "shell.execute_reply.started": "2023-11-22T14:16:22.898340Z"
    }
   },
   "outputs": [
    {
     "name": "stderr",
     "output_type": "stream",
     "text": [
      "Evaluating: 100%|██████████| 2652/2652 [11:59<00:00,  3.68it/s]"
     ]
    },
    {
     "name": "stdout",
     "output_type": "stream",
     "text": [
      "Test Accuracy: 81.71%\n"
     ]
    },
    {
     "name": "stderr",
     "output_type": "stream",
     "text": [
      "\n"
     ]
    }
   ],
   "source": [
    "\n",
    "correct = 0\n",
    "total = 0\n",
    "with torch.no_grad():\n",
    "    for batch in tqdm(test_loader, desc='Evaluating'):\n",
    "        batch = tuple(t.to(device) for t in batch)\n",
    "        inputs = {'input_ids': batch[0],\n",
    "                  'attention_mask': batch[1],\n",
    "                  'labels': batch[2]}\n",
    "        outputs = model(**inputs)\n",
    "        logits = outputs.logits\n",
    "        _, predicted = torch.max(logits, 1)\n",
    "        total += inputs['labels'].size(0)\n",
    "        correct += (predicted == inputs['labels']).sum().item()\n",
    "\n",
    "accuracy = correct / total\n",
    "print(f'Test Accuracy: {accuracy * 100:.2f}%')"
   ]
  },
  {
   "cell_type": "code",
   "execution_count": 52,
   "metadata": {
    "execution": {
     "iopub.execute_input": "2023-11-22T14:32:32.249144Z",
     "iopub.status.busy": "2023-11-22T14:32:32.248396Z",
     "iopub.status.idle": "2023-11-22T14:32:32.777058Z",
     "shell.execute_reply": "2023-11-22T14:32:32.776308Z",
     "shell.execute_reply.started": "2023-11-22T14:32:32.249099Z"
    }
   },
   "outputs": [
    {
     "data": {
      "image/png": "[encoded data removed]",
      "text/plain": [
       "<Figure size 864x288 with 2 Axes>"
      ]
     },
     "metadata": {},
     "output_type": "display_data"
    }
   ],
   "source": [
    "import matplotlib.pyplot as plt\n",
    "\n",
    "# Replace these with your actual accuracy and loss values\n",
    "epoch_numbers = [1, 2, 3, 4, 5]\n",
    "train_accuracies = [68.26, 76.31, 78.93, 80.92, 82.44]\n",
    "train_losses = [1.0514, 0.7746, 0.6868, 0.6253, 0.5743]\n",
    "\n",
    "# Use a dark theme\n",
    "plt.style.use('dark_background')\n",
    "\n",
    "# Plotting\n",
    "plt.figure(figsize=(12, 4))\n",
    "\n",
    "# Plot accuracy\n",
    "plt.subplot(1, 2, 1)\n",
    "plt.plot(epoch_numbers, train_accuracies, marker='o', linestyle='-', color='b', label='Training Accuracy')\n",
    "plt.title('Training Accuracy Over Epochs')\n",
    "plt.xlabel('Epoch')\n",
    "plt.ylabel('Accuracy')\n",
    "plt.legend()\n",
    "\n",
    "# Plot loss\n",
    "plt.subplot(1, 2, 2)\n",
    "plt.plot(epoch_numbers, train_losses, marker='o', linestyle='-', color='r', label='Training Loss')\n",
    "plt.title('Training Loss Over Epochs')\n",
    "plt.xlabel('Epoch')\n",
    "plt.ylabel('Loss')\n",
    "plt.legend()\n",
    "\n",
    "plt.tight_layout()\n",
    "plt.show()\n"
   ]
  },
  {
   "cell_type": "code",
   "execution_count": 50,
   "metadata": {
    "execution": {
     "iopub.execute_input": "2023-11-22T14:16:02.772487Z",
     "iopub.status.busy": "2023-11-22T14:16:02.772210Z",
     "iopub.status.idle": "2023-11-22T14:16:02.778518Z",
     "shell.execute_reply": "2023-11-22T14:16:02.777796Z",
     "shell.execute_reply.started": "2023-11-22T14:16:02.772458Z"
    }
   },
   "outputs": [
    {
     "data": {
      "text/plain": [
       "('INTJ',\n",
       " 'preferably p hd low except wew lad video p mind good reason agree statement relationship become difficu maintain people involve different stag life constantly feel though feign certain emotion counteract natural appearance aloofness excite someone engagement welcome someone bring child office internally really care either thing order mesh generally e office one strategically fake make act like thing matter family use phase anymore naturally open almost difficu fake around one occasion year feel obligate feign emotion actually comfortable around people overcome social anxiety fake emotion appear le detach completely different former take time persistent effort latter patch gauze cover wind former live fake learn comfort zone socially embrace people accept effort easily sniff counterfeit sense would take plenty vitamin get sunlight eat good visit r watchpeopledie appreciate life remember achieve thus far say intj resu trauma student study nurse something find interest body language fractal something think would really cool really understand yet mentalism one fact cool mundane common knowledge matter tell u something navajo apache descend single tribe migrate canada well sorta chief blame leaker source little foolish take basic precaution sort thing park car leave door unlock key ignition fau get steal thief still one primarily responsible idiot make easy say take photo compromise situation first place little like say could avoid theft never buy car technically true far inferior buy car lock door bed similar problem job hop since graduate land company nice crappy person like cuz still company first sale fairly well prep like excel amp nots lack severely customer service hat call finally somehow lose interest job scope initial good work erode allow shift logistics due exceptional initial stage thing happen fairly good lose focus job give another chance sale ask back logistics position feel crappy sale back logistics decide shift quality fairly well lose focus plus early stage pregnancy thus move back logistics light work tardy extend come work hour two late become moody temperamental pretty much keep barely make connection colleague surprise general manager amp ceo still ok come back maternity leave find none department want back cannot kick due local law woman back work maternity leave give final chance gm hr department new position company previously hire etc hr manager dual function finance amp hr function hr manager also temporary position finance position good get plan amp whatnot regard hire process etc course follow current cuure thats gm saw potiential sure say something genius people always one bad attitude agm speak highly person unsure real despite know lick type people work bring child goal well good environment go school etc happy planning carry thing etc punctuality wise amp interpersonally bad use lose motivation clear direction hr manager due position really hr finance really much teach even though know alot amp alot thing really find pro active point perhaps find work newly set company suggest way set direction amp planning heck even open get relevant people relevant thing master planner amp set direction best suggest vodka good stuff strong flavor smooth easy mix type')"
      ]
     },
     "execution_count": 50,
     "metadata": {},
     "output_type": "execute_result"
    }
   ],
   "source": [
    "df['type'][2], df['posts'][2]"
   ]
  },
  {
   "cell_type": "code",
   "execution_count": 64,
   "metadata": {
    "execution": {
     "iopub.execute_input": "2023-11-22T14:41:58.979621Z",
     "iopub.status.busy": "2023-11-22T14:41:58.979409Z",
     "iopub.status.idle": "2023-11-22T14:41:58.986978Z",
     "shell.execute_reply": "2023-11-22T14:41:58.986328Z",
     "shell.execute_reply.started": "2023-11-22T14:41:58.979595Z"
    }
   },
   "outputs": [
    {
     "data": {
      "text/plain": [
       "('INTJ',\n",
       " 'u theagame say big problem people cannot comprehend see point problem arise thankfully really good mentor allow make mistake full production cycle show area improve say also show efficient way process volume data deal example change underlie query significantly improve speed one many process use take hour take minute honestly anything leverage intjs system style think ability see interconnection say system good thing cannot control well people work exactly like sculptor michelangelo begrudgingly take job family paint church ceiling machiavelli resume portfolio snide tongue cheek page turner amuse mass give birth political science ummm really plan think would address please hug touch stop use word already use word word help far use useless enfp go doubt sincerity word shut authenticity one key aspect intjs enfps authenticity fi style feel fe style human use jungian function enfps use fi nd spot thus primal aspect intjs fi user rd spot thus primal hide primal aspect call poker face le aware fi even though fi tie everything te effectiveness sometimes hide fi behind wall shield still hard see aka te make intjs feel stoic ni fi make intjs feel emotional aka link intjs amp bsp already know word fail either fail doubt work ask give answer ask permission hold enfp hand small table like restaurant establish eye contact eye contact establish make eye lock say want attention need say something important hard put word aka hand contact show enfp important go establish eye contact enfp go able literally since sincerity via eye lock use word keep short keep simple keep point word equal bad already use word enfp remember trust enfp remember reason word give enfp sensory feedback previous work poker face rob enfps word word word memory device trigger memory enfp trigger si connect present se hand hold eye lock allow enfp connect realize si se connect strong function hero function form pattern recognition enfps best call ne conceptualize pattern draw line data point data point b data point c give sincere heart fe apology enfp realize sincerity via hand hold eye lock job intj know hard intj shut fuck vulnerable let enfp control conversation likely enfp want move two page time fun enjoy small moment life word stop overthinking instead let watch second clip incredibles click youtube link edna e mode intj wonderful teach tool intjs channel often lead victory take charge intj fix problem assume responsibility also know control thing control watch clip hit elastigirl like edna instead hold hand see thing edna sincere little dramatic dramatic help understand intense emotion drive sincerity edna make lot eye contact go sign word edna sign clip ou show remember mr incredible remind well know go confront problem fight win edna return intense voice normal voice call get back darling enjoy visit ever get hat relationship eye yea see gonna next yeah thank give actual worldly advice tho lol well perceiver obvious especially know real difference si v ni type use te communicate motivation internal struggle even person mainly think focus pretty different')"
      ]
     },
     "execution_count": 64,
     "metadata": {},
     "output_type": "execute_result"
    }
   ],
   "source": [
    "df['type'][4000], df['posts'][4000]"
   ]
  },
  {
   "cell_type": "code",
   "execution_count": 61,
   "metadata": {
    "execution": {
     "iopub.execute_input": "2023-11-22T14:39:47.811867Z",
     "iopub.status.busy": "2023-11-22T14:39:47.811106Z",
     "iopub.status.idle": "2023-11-22T14:39:47.817788Z",
     "shell.execute_reply": "2023-11-22T14:39:47.816983Z",
     "shell.execute_reply.started": "2023-11-22T14:39:47.811829Z"
    }
   },
   "outputs": [
    {
     "data": {
      "text/plain": [
       "('ISTJ',\n",
       " 'work lol thank ok istj however love swing f erratically however intrapersonal intelligence test show also describe n allmost tick everything however lot go head also however like explore f side thus give ability cry want need need release nearly cry private yes agree could make comment yet cant personal divulge intrested true friend post email find enfj forgive however happen would much hatred yes agree opersites facinating chance feel person hold istj build ideal moral grow personality hehehe know patience stick someone try force thing change realy pee mind im one beleive need someone little real life maybe past month get hour socialise op comment agree enough feel waste day life go im go say owiee head hurt agree istj enfp good istj keep much hide bottle sure let thing need good proportion time tell people thing skim around edge first cant afford second want linux mac window vista guess speak many istj problem change nsure leave alone like grey bug live load time seriously find people upgrade worry feel old im know good portion think however good become aware look someone go hurt phisically mental anguish pas time go bite flirt see operate track recorder damn reel huge lol thank god hard disk however im still get reel reel single track portable player dad correct comment full story im private person post skim around edge little however thing share doen hold much ditch aunt long ago confidant special time one state live near uk lass u good friend time sound like poor guy want get know good shut time may pick hint like say previous post really grey area hard might catch catch situation think least effect og job side note might like b ok something bore like walk route something everyday make think thing end day dream people sometimes alone bad someone thing yet beat normally people scar alone like date process try trust space dust light energy radiation fill even glass give energy even vacume space energy even dark matter sound like ok e hmm e public show know show select people trust n hmm n give hypertension super anxious time tense take propranolol bad panic attack hard leave house want understand brain work psychiatrist would put propranolol send new york washinon height hate neighborhood predominately spanish people always play music mad loud fit neighborhood anyone else feel lol awesome iguana know learn go dbt group see therapist psychiatrist schizotypal come like talk people keep job wanna normal party get pretty girl friend quit yesterday mid shift panic attack get whelm get super quite want get outta send iphone use tapatalk greg plitt hero someone inspire push get comfort zone philosophy mind set strong inspire send iphone use tapatalk start new job fit know talk people cool odd wash dish know look stand bull shi know people autism work hold job hand nervous fuck keep job change name iconclast admins contact well read autism relate social anxiety therapist go group everyday dbt make try overcome always')"
      ]
     },
     "execution_count": 61,
     "metadata": {},
     "output_type": "execute_result"
    }
   ],
   "source": [
    "df['type'][50000], df['posts'][50000]"
   ]
  },
  {
   "cell_type": "code",
   "execution_count": 60,
   "metadata": {
    "execution": {
     "iopub.execute_input": "2023-11-22T14:39:38.324769Z",
     "iopub.status.busy": "2023-11-22T14:39:38.324086Z",
     "iopub.status.idle": "2023-11-22T14:39:38.330496Z",
     "shell.execute_reply": "2023-11-22T14:39:38.329745Z",
     "shell.execute_reply.started": "2023-11-22T14:39:38.324730Z"
    }
   },
   "outputs": [
    {
     "data": {
      "text/plain": [
       "('INTP',\n",
       " 'need exactly le likely know mean mean intp extremely difficu time force maintenance type task clean apartment exercise thing nature find help little bite tackle small bit example half dish go something else little bite come back finish know help think necessarily put danger thing specifically fearful maybe need take experience extreme depend im really like picasso van gogh thing like like film character concept art landscape art fictional city like sometimes write use write lot fiction kid like see people creativity especially way literally see need much knowledge understand something creative sense im car person bc get part work really problem fi value make logical sense system ti even relation least discern ti tert well course say ti inherent mean value anything beside mechanical theoretical function curiosity work mean system reference logical within relation accurate le unless new information present everything reassess reposition correlate new data corrective function wise struggle inherent really depend individual live environment raise live problem emotion within first relationship come reject philosophy render existence essentially meaningless rationale especially relativism reject identity relative sure convenient ni free fe scream nothing mean relative constant also associate subjectivism like opinion man since use usually want dismiss others argument without explain shit fine agree disagree differ opinion fine long accept understand fma rotherhood good one think baccano awesome would vastly expand due obsolete need keep house close work environment open many new sector rural aesthetically please rural area assume teleportation free available like apparation harry potter universe conversely teleportation monetize go process expensive technology vr go would get typical company first exploit high disposable income create small niche market house market would correspondingly adapt create niche market mansion scatter around globe scenic probably tourist spot would buy mansion would also probably value place market tourist industry eventually market would expand include upper middle class technology evolve get cheap understand five language love would helpful lot sf nt relationship since generally follow certain dynamic approach affection lot room error misconception generally flexible try gregarious friend refuse move change someone try force anything usually take sort thing personal offense treat everything argument convince otherwise think right sound like intp get comfortable whatever guy sfs tendency challenge lot intp stand see struggle advice suggest walk away best friend conflict would blasphemy social dynamic incredibly unheahy use thesaurus far dictionary oh agree one debate truth post stink ignorance perhaps research slight lean amp amp least nice certain amount set aside student purchase super cheap one big grip college always eat cafeteria fresh produce cheap everyone would able cook every awhile yeah opinion fully form matter sound great could pull unfortunately like say freedom could issue straight male would tell intps general like person direct could well talk good side look prejudice analysis think shutter island really grow love day saw start clear basement e rarely take offense take offense irrationality truth though honest blunt direct something downright respect many people say many people intp even start doubt month test differents place come thing come')"
      ]
     },
     "execution_count": 60,
     "metadata": {},
     "output_type": "execute_result"
    }
   ],
   "source": [
    "df['type'][30000], df['posts'][30000]"
   ]
  },
  {
   "cell_type": "code",
   "execution_count": 63,
   "metadata": {
    "execution": {
     "iopub.execute_input": "2023-11-22T14:40:51.668646Z",
     "iopub.status.busy": "2023-11-22T14:40:51.667965Z",
     "iopub.status.idle": "2023-11-22T14:41:58.978112Z",
     "shell.execute_reply": "2023-11-22T14:41:58.977513Z",
     "shell.execute_reply.started": "2023-11-22T14:40:51.668614Z"
    }
   },
   "outputs": [
    {
     "name": "stdout",
     "output_type": "stream",
     "text": [
      "\n",
      "***********************************************\n",
      "\n"
     ]
    },
    {
     "name": "stdin",
     "output_type": "stream",
     "text": [
      "Enter a post (type 'exit' to quit):  need exactly le likely know mean mean intp extremely difficu time force maintenance type task clean apartment exercise thing nature find help little bite tackle small bit example half dish go something else little bite come back finish know help think necessarily put danger thing specifically fearful maybe need take experience extreme depend im really like picasso van gogh thing like like film character concept art landscape art fictional city like sometimes write use write lot fiction kid like see people creativity especially way literally see need much knowledge understand something creative sense im car person bc get part work really problem fi value make logical sense system ti even relation least discern ti tert well course say ti inherent mean value anything beside mechanical theoretical function curiosity work mean system reference logical within relation accurate le unless new information present everything reassess reposition correlate new data corrective function wise struggle inherent really depend individual live environment raise live problem emotion within first relationship come reject philosophy render existence essentially meaningless rationale especially relativism reject identity relative sure convenient ni free fe scream nothing mean relative constant also associate subjectivism like opinion man since use usually want dismiss others argument without explain shit fine agree disagree differ opinion fine long accept understand fma rotherhood good one think baccano awesome would vastly expand due obsolete need keep house close work environment open many new sector rural aesthetically please rural area assume teleportation free available like apparation harry potter universe conversely teleportation monetize go process expensive technology vr go would get typical company first exploit high disposable income create small niche market house market would correspondingly adapt create niche market mansion scatter around globe scenic probably tourist spot would buy mansion would also probably value place market tourist industry eventually market would expand include upper middle class technology evolve get cheap understand five language love would helpful lot sf nt relationship since generally follow certain dynamic approach affection lot room error misconception generally flexible try gregarious friend refuse move change someone try force anything usually take sort thing personal offense treat everything argument convince otherwise think right sound like intp get comfortable whatever guy sfs tendency challenge lot intp stand see struggle advice suggest walk away best friend conflict would blasphemy social dynamic incredibly unheahy use thesaurus far dictionary oh agree one debate truth post stink ignorance perhaps research slight lean amp amp least nice certain amount set aside student purchase super cheap one big grip college always eat cafeteria fresh produce cheap everyone would able cook every awhile yeah opinion fully form matter sound great could pull unfortunately like say freedom could issue straight male would tell intps general like person direct could well talk good side look prejudice analysis think shutter island really grow love day saw start clear basement e rarely take offense take offense irrationality truth though honest blunt direct something downright respect many people say many people intp even start doubt month test differents place come thing come\n"
     ]
    },
    {
     "name": "stdout",
     "output_type": "stream",
     "text": [
      "\n",
      "Predicted Personality Type: INTP\n",
      "\n",
      "***********************************************\n",
      "\n",
      "\n",
      "***********************************************\n",
      "\n"
     ]
    },
    {
     "name": "stdin",
     "output_type": "stream",
     "text": [
      "Enter a post (type 'exit' to quit):  work lol thank ok istj however love swing f erratically however intrapersonal intelligence test show also describe n allmost tick everything however lot go head also however like explore f side thus give ability cry want need need release nearly cry private yes agree could make comment yet cant personal divulge intrested true friend post email find enfj forgive however happen would much hatred yes agree opersites facinating chance feel person hold istj build ideal moral grow personality hehehe know patience stick someone try force thing change realy pee mind im one beleive need someone little real life maybe past month get hour socialise op comment agree enough feel waste day life go im go say owiee head hurt agree istj enfp good istj keep much hide bottle sure let thing need good proportion time tell people thing skim around edge first cant afford second want linux mac window vista guess speak many istj problem change nsure leave alone like grey bug live load time seriously find people upgrade worry feel old im know good portion think however good become aware look someone go hurt phisically mental anguish pas time go bite flirt see operate track recorder damn reel huge lol thank god hard disk however im still get reel reel single track portable player dad correct comment full story im private person post skim around edge little however thing share doen hold much ditch aunt long ago confidant special time one state live near uk lass u good friend time sound like poor guy want get know good shut time may pick hint like say previous post really grey area hard might catch catch situation think least effect og job side note might like b ok something bore like walk route something everyday make think thing end day dream people sometimes alone bad someone thing yet beat normally people scar alone like date process try trust space dust light energy radiation fill even glass give energy even vacume space energy even dark matter sound like ok e hmm e public show know show select people trust n hmm n give hypertension super anxious time tense take propranolol bad panic attack hard leave house want understand brain work psychiatrist would put propranolol send new york washinon height hate neighborhood predominately spanish people always play music mad loud fit neighborhood anyone else feel lol awesome iguana know learn go dbt group see therapist psychiatrist schizotypal come like talk people keep job wanna normal party get pretty girl friend quit yesterday mid shift panic attack get whelm get super quite want get outta send iphone use tapatalk greg plitt hero someone inspire push get comfort zone philosophy mind set strong inspire send iphone use tapatalk start new job fit know talk people cool odd wash dish know look stand bull shi know people autism work hold job hand nervous fuck keep job change name iconclast admins contact well read autism relate social anxiety therapist go group everyday dbt make try overcome always\n"
     ]
    },
    {
     "name": "stdout",
     "output_type": "stream",
     "text": [
      "\n",
      "Predicted Personality Type: ISTJ\n",
      "\n",
      "***********************************************\n",
      "\n",
      "\n",
      "***********************************************\n",
      "\n"
     ]
    },
    {
     "name": "stdin",
     "output_type": "stream",
     "text": [
      "Enter a post (type 'exit' to quit):  drink like wish could drink red wine give headache almost instantaneously apparently people really sensitive byproduct red wine esfp bite place blissful go flow state change anything brother middle right thread really help realize need change honestly assume op know try make funny post even giggle also wonder would downvote guy people get mad get joke really know suppose one minority social recluse would quite sad buddhist strong humanist lean particularly see much geographical difference two hate sleep waste time hard stop think enough brain turn jesus christ close home every weeknight conversation wife believe men attract status way believe get degree somehow ensure end guy least much education status thing false agree false disagree woman know good woman want men high status feel like unfair smv increase status standard keep get high value stay woman good grip reality social interaction smv like reality like complain motivation go college first place largely conformism parent say society say friend go seem like fun experience go along woman naturally tend go soft subject lot social component like social science often work people help people way also value flexibility cooperation personal time competition success make sense biologically one birth raise child need aggression need social skill time child really conspiracy plot lock man biology conform society look high status male choose career field social nurture side allow raise child except iq kill unstoppable oh well guess settle mid fine long one see browser history ne seem like river manifold muiple weak current whereas ni seem like river strong current look right hate brainstorm like idea want solve problem get little bubble let brain come mental representation manipulate thing solve even try answer visualize powerfull stream water dig canyon image partially suggest mental image get strong feel like take shower edit clarity thank chan basically semi meta circlejerk implode muiple time meme cuure become obscure point exist make sense within chan like reddit everyone compete internet point everyone chan equally unimportant credit go nobody shit create simply create sake exist chan use shitty rise community chan remain odd one like wild west community cuure allow mature fester today vastly fascinate back chan use nothing literally flavor chip tune remixes still sound like chip tune sure hear thing outside professional work game example castlevania series song vampire killer first level first ne game redo dozen time castlevania iii case chip different arrangement hear backward remixes music game bite late generation devolve chip tune usually like come preferable original music old chip authentic chip tune something could original chip hardware accept tune bui use ne sample authentically example norrin radd anomaly least authentic day famitracker good enough produce ne music actually play ne authentic example jake kaufman fx originally fake sound like ne track remastered famitracker mega man example professional work sound like ne still cheat little plot thicken get feel perhaps something else go would mind go assumption like sound like analyze potential make incorrect statement head sound like defense mechanism straight really intj thing kerbal\n"
     ]
    },
    {
     "name": "stdout",
     "output_type": "stream",
     "text": [
      "\n",
      "Predicted Personality Type: INTP\n",
      "\n",
      "***********************************************\n",
      "\n",
      "\n",
      "***********************************************\n",
      "\n"
     ]
    },
    {
     "name": "stdin",
     "output_type": "stream",
     "text": [
      "Enter a post (type 'exit' to quit):  preferably p hd low except wew lad video p mind good reason agree statement relationship become difficu maintain people involve different stag life constantly feel though feign certain emotion counteract natural appearance aloofness excite someone engagement welcome someone bring child office internally really care either thing order mesh generally e office one strategically fake make act like thing matter family use phase anymore naturally open almost difficu fake around one occasion year feel obligate feign emotion actually comfortable around people overcome social anxiety fake emotion appear le detach completely different former take time persistent effort latter patch gauze cover wind former live fake learn comfort zone socially embrace people accept effort easily sniff counterfeit sense would take plenty vitamin get sunlight eat good visit r watchpeopledie appreciate life remember achieve thus far say intj resu trauma student study nurse something find interest body language fractal something think would really cool really understand yet mentalism one fact cool mundane common knowledge matter tell u something navajo apache descend single tribe migrate canada well sorta chief blame leaker source little foolish take basic precaution sort thing park car leave door unlock key ignition fau get steal thief still one primarily responsible idiot make easy say take photo compromise situation first place little like say could avoid theft never buy car technically true far inferior buy car lock door bed similar problem job hop since graduate land company nice crappy person like cuz still company first sale fairly well prep like excel amp nots lack severely customer service hat call finally somehow lose interest job scope initial good work erode allow shift logistics due exceptional initial stage thing happen fairly good lose focus job give another chance sale ask back logistics position feel crappy sale back logistics decide shift quality fairly well lose focus plus early stage pregnancy thus move back logistics light work tardy extend come work hour two late become moody temperamental pretty much keep barely make connection colleague surprise general manager amp ceo still ok come back maternity leave find none department want back cannot kick due local law woman back work maternity leave give final chance gm hr department new position company previously hire etc hr manager dual function finance amp hr function hr manager also temporary position finance position good get plan amp whatnot regard hire process etc course follow current cuure thats gm saw potiential sure say something genius people always one bad attitude agm speak highly person unsure real despite know lick type people work bring child goal well good environment go school etc happy planning carry thing etc punctuality wise amp interpersonally bad use lose motivation clear direction hr manager due position really hr finance really much teach even though know alot amp alot thing really find pro active point perhaps find work newly set company suggest way set direction amp planning heck even open get relevant people relevant thing master planner amp set direction best suggest vodka good stuff strong flavor smooth easy mix type\n"
     ]
    },
    {
     "name": "stdout",
     "output_type": "stream",
     "text": [
      "\n",
      "Predicted Personality Type: INTJ\n",
      "\n",
      "***********************************************\n",
      "\n",
      "\n",
      "***********************************************\n",
      "\n"
     ]
    },
    {
     "name": "stdin",
     "output_type": "stream",
     "text": [
      "Enter a post (type 'exit' to quit):  exit\n"
     ]
    }
   ],
   "source": [
    "from transformers import BertTokenizer, BertForSequenceClassification\n",
    "\n",
    "# Load tokenizer from directory\n",
    "tokenizer = BertTokenizer.from_pretrained('/kaggle/input/tokenizer')\n",
    "\n",
    "# Load the saved complete model\n",
    "model = torch.load('/kaggle/working/mbti-model-complete.pth')\n",
    "\n",
    "# Set the device (either 'cuda' for GPU or 'cpu' for CPU)\n",
    "device = 'cuda' if torch.cuda.is_available() else 'cpu'\n",
    "\n",
    "# Move the model to the same device as the input data\n",
    "model.to(device)\n",
    "\n",
    "def predict_class(input_text):\n",
    "    # Tokenize and encode the input text\n",
    "    input_ids = tokenizer.encode(input_text, add_special_tokens=True, max_length=512, truncation=True, return_tensors='pt')\n",
    "\n",
    "    # Move the input data to the same device as the model\n",
    "    input_ids = input_ids.to(device)\n",
    "\n",
    "    # Make the prediction\n",
    "    with torch.no_grad():\n",
    "        model.eval()\n",
    "        logits = model(input_ids)[0]\n",
    "\n",
    "    # Get the predicted class\n",
    "    predicted_class = torch.argmax(logits).item()\n",
    "\n",
    "    return predicted_class\n",
    "\n",
    "\n",
    "while True:\n",
    "    # Take user input\n",
    "    print(f\"\\n***********************************************\\n\")\n",
    "   \n",
    "    user_input = input(\"Enter a post (type 'exit' to quit): \")\n",
    "\n",
    "    # Check if the user wants to exit\n",
    "    if user_input.lower() == 'exit':\n",
    "        break\n",
    "\n",
    "    # Tokenize and encode the input text\n",
    "    input_ids = tokenizer.encode(user_input, add_special_tokens=True, max_length=512, truncation=True, return_tensors='pt')\n",
    "\n",
    "    # Move the input data to the same device as the model\n",
    "    input_ids = input_ids.to(device)\n",
    "\n",
    "    # Make the prediction\n",
    "    with torch.no_grad():\n",
    "        model.eval()\n",
    "        logits = model(input_ids)[0]\n",
    "\n",
    "    # Get the predicted class\n",
    "    predicted_class = torch.argmax(logits).item()\n",
    "\n",
    "    # Decode the predicted class using the label encoder\n",
    "    predicted_label = label_encoder.inverse_transform([predicted_class])[0]\n",
    "\n",
    "    print(f\"\\nPredicted Personality Type: {predicted_label}\")\n",
    "    print(f\"\\n***********************************************\\n\")\n",
    "    "
   ]
  }
 ],
 "metadata": {
  "kaggle": {
   "accelerator": "nvidiaTeslaT4",
   "dataSources": [
    {
     "datasetId": 1831626,
     "sourceId": 2988740,
     "sourceType": "datasetVersion"
    },
    {
     "datasetId": 4040107,
     "sourceId": 7025185,
     "sourceType": "datasetVersion"
    },
    {
     "datasetId": 4040117,
     "sourceId": 7025200,
     "sourceType": "datasetVersion"
    }
   ],
   "dockerImageVersionId": 30154,
   "isGpuEnabled": true,
   "isInternetEnabled": true,
   "language": "python",
   "sourceType": "notebook"
  },
  "kernelspec": {
   "display_name": "Python 3",
   "language": "python",
   "name": "python3"
  },
  "language_info": {
   "codemirror_mode": {
    "name": "ipython",
    "version": 3
   },
   "file_extension": ".py",
   "mimetype": "text/x-python",
   "name": "python",
   "nbconvert_exporter": "python",
   "pygments_lexer": "ipython3",
   "version": "3.6.8"
  }
 },
 "nbformat": 4,
 "nbformat_minor": 4
}

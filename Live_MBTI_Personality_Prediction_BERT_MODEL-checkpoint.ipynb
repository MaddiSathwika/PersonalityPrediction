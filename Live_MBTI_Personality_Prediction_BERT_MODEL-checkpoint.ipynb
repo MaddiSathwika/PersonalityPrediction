{
 "cells": [
  {
   "cell_type": "code",
   "execution_count": 1,
   "metadata": {
    "colab": {
     "base_uri": "https://localhost:8080/"
    },
    "id": "w2buTzRsiW75",
    "outputId": "1c9faa47-fdfe-4993-c23e-fb81c5ca7ff2"
   },
   "outputs": [
    {
     "name": "stderr",
     "output_type": "stream",
     "text": [
      "/usr/local/lib/python3.10/dist-packages/sklearn/base.py:318: UserWarning: Trying to unpickle estimator LabelEncoder from version 0.23.2 when using version 1.2.2. This might lead to breaking code or invalid results. Use at your own risk. For more info please refer to:\n",
      "https://scikit-learn.org/stable/model_persistence.html#security-maintainability-limitations\n",
      "  warnings.warn(\n"
     ]
    },
    {
     "name": "stdout",
     "output_type": "stream",
     "text": [
      "\n",
      "***********************************************\n",
      "\n",
      "Enter a post (type 'exit' to quit): need exactly le likely know mean mean intp extremely difficu time force maintenance type task clean apartment exercise thing nature find help little bite tackle small bit example half dish go something else little bite come back finish know help think necessarily put danger thing specifically fearful maybe need take experience extreme depend im really like picasso van gogh thing like like film character concept art landscape art fictional city like sometimes write use write lot fiction kid like see people creativity especially way literally see need much knowledge understand something creative sense im car person bc get part work really problem fi value make logical sense system ti even relation least discern ti tert well course say ti inherent mean value anything beside mechanical theoretical function curiosity work mean system reference logical within relation accurate le unless new information present everything reassess reposition correlate new data corrective function wise struggle inherent really depend individual live environment raise live problem emotion within first relationship come reject philosophy render existence essentially meaningless rationale especially relativism reject identity relative sure convenient ni free fe scream nothing mean relative constant also associate subjectivism like opinion man since use usually want dismiss others argument without explain shit fine agree disagree differ opinion fine long accept understand fma rotherhood good one think baccano awesome would vastly expand due obsolete need keep house close work environment open many new sector rural aesthetically please rural area assume teleportation free available like apparation harry potter universe conversely teleportation monetize go process expensive technology vr go would get typical company first exploit high disposable income create small niche market house market would correspondingly adapt create niche market mansion scatter around globe scenic probably tourist spot would buy mansion would also probably value place market tourist industry eventually market would expand include upper middle class technology evolve get cheap understand five language love would helpful lot sf nt relationship since generally follow certain dynamic approach affection lot room error misconception generally flexible try gregarious friend refuse move change someone try force anything usually take sort thing personal offense treat everything argument convince otherwise think right sound like intp get comfortable whatever guy sfs tendency challenge lot intp stand see struggle advice suggest walk away best friend conflict would blasphemy social dynamic incredibly unheahy use thesaurus far dictionary oh agree one debate truth post stink ignorance perhaps research slight lean amp amp least nice certain amount set aside student purchase super cheap one big grip college always eat cafeteria fresh produce cheap everyone would able cook every awhile yeah opinion fully form matter sound great could pull unfortunately like say freedom could issue straight male would tell intps general like person direct could well talk good side look prejudice analysis think shutter island really grow love day saw start clear basement e rarely take offense take offense irrationality truth though honest blunt direct something downright respect many people say many people intp even start doubt month test differents place come thing come\n",
      "\n",
      "Predicted Personality Type: INTP\n",
      "\n",
      "***********************************************\n",
      "\n",
      "\n",
      "***********************************************\n",
      "\n",
      "Enter a post (type 'exit' to quit): preferably p hd low except wew lad video p mind good reason agree statement relationship become difficu maintain people involve different stag life constantly feel though feign certain emotion counteract natural appearance aloofness excite someone engagement welcome someone bring child office internally really care either thing order mesh generally e office one strategically fake make act like thing matter family use phase anymore naturally open almost difficu fake around one occasion year feel obligate feign emotion actually comfortable around people overcome social anxiety fake emotion appear le detach completely different former take time persistent effort latter patch gauze cover wind former live fake learn comfort zone socially embrace people accept effort easily sniff counterfeit sense would take plenty vitamin get sunlight eat good visit r watchpeopledie appreciate life remember achieve thus far say intj resu trauma student study nurse something find interest body language fractal something think would really cool really understand yet mentalism one fact cool mundane common knowledge matter tell u something navajo apache descend single tribe migrate canada well sorta chief blame leaker source little foolish take basic precaution sort thing park car leave door unlock key ignition fau get steal thief still one primarily responsible idiot make easy say take photo compromise situation first place little like say could avoid theft never buy car technically true far inferior buy car lock door bed similar problem job hop since graduate land company nice crappy person like cuz still company first sale fairly well prep like excel amp nots lack severely customer service hat call finally somehow lose interest job scope initial good work erode allow shift logistics due exceptional initial stage thing happen fairly good lose focus job give another chance sale ask back logistics position feel crappy sale back logistics decide shift quality fairly well lose focus plus early stage pregnancy thus move back logistics light work tardy extend come work hour two late become moody temperamental pretty much keep barely make connection colleague surprise general manager amp ceo still ok come back maternity leave find none department want back cannot kick due local law woman back work maternity leave give final chance gm hr department new position company previously hire etc hr manager dual function finance amp hr function hr manager also temporary position finance position good get plan amp whatnot regard hire process etc course follow current cuure thats gm saw potiential sure say something genius people always one bad attitude agm speak highly person unsure real despite know lick type people work bring child goal well good environment go school etc happy planning carry thing etc punctuality wise amp interpersonally bad use lose motivation clear direction hr manager due position really hr finance really much teach even though know alot amp alot thing really find pro active point perhaps find work newly set company suggest way set direction amp planning heck even open get relevant people relevant thing master planner amp set direction best suggest vodka good stuff strong flavor smooth easy mix type\n",
      "\n",
      "Predicted Personality Type: INTJ\n",
      "\n",
      "***********************************************\n",
      "\n",
      "\n",
      "***********************************************\n",
      "\n",
      "Enter a post (type 'exit' to quit): u theagame say big problem people cannot comprehend see point problem arise thankfully really good mentor allow make mistake full production cycle show area improve say also show efficient way process volume data deal example change underlie query significantly improve speed one many process use take hour take minute honestly anything leverage intjs system style think ability see interconnection say system good thing cannot control well people work exactly like sculptor michelangelo begrudgingly take job family paint church ceiling machiavelli resume portfolio snide tongue cheek page turner amuse mass give birth political science ummm really plan think would address please hug touch stop use word already use word word help far use useless enfp go doubt sincerity word shut authenticity one key aspect intjs enfps authenticity fi style feel fe style human use jungian function enfps use fi nd spot thus primal aspect intjs fi user rd spot thus primal hide primal aspect call poker face le aware fi even though fi tie everything te effectiveness sometimes hide fi behind wall shield still hard see aka te make intjs feel stoic ni fi make intjs feel emotional aka link intjs amp bsp already know word fail either fail doubt work ask give answer ask permission hold enfp hand small table like restaurant establish eye contact eye contact establish make eye lock say want attention need say something important hard put word aka hand contact show enfp important go establish eye contact enfp go able literally since sincerity via eye lock use word keep short keep simple keep point word equal bad already use word enfp remember trust enfp remember reason word give enfp sensory feedback previous work poker face rob enfps word word word memory device trigger memory enfp trigger si connect present se hand hold eye lock allow enfp connect realize si se connect strong function hero function form pattern recognition enfps best call ne conceptualize pattern draw line data point data point b data point c give sincere heart fe apology enfp realize sincerity via hand hold eye lock job intj know hard intj shut fuck vulnerable let enfp control conversation likely enfp want move two page time fun enjoy small moment life word stop overthinking instead let watch second clip incredibles click youtube link edna e mode intj wonderful teach tool intjs channel often lead victory take charge intj fix problem assume responsibility also know control thing control watch clip hit elastigirl like edna instead hold hand see thing edna sincere little dramatic dramatic help understand intense emotion drive sincerity edna make lot eye contact go sign word edna sign clip ou show remember mr incredible remind well know go confront problem fight win edna return intense voice normal voice call get back darling enjoy visit ever get hat relationship eye yea see gonna next yeah thank give actual worldly advice tho lol well perceiver obvious especially know real difference si v ni type use te communicate motivation internal struggle even person mainly think focus pretty different\n",
      "\n",
      "Predicted Personality Type: INTJ\n",
      "\n",
      "***********************************************\n",
      "\n",
      "\n",
      "***********************************************\n",
      "\n",
      "Enter a post (type 'exit' to quit): work lol thank ok istj however love swing f erratically however intrapersonal intelligence test show also describe n allmost tick everything however lot go head also however like explore f side thus give ability cry want need need release nearly cry private yes agree could make comment yet cant personal divulge intrested true friend post email find enfj forgive however happen would much hatred yes agree opersites facinating chance feel person hold istj build ideal moral grow personality hehehe know patience stick someone try force thing change realy pee mind im one beleive need someone little real life maybe past month get hour socialise op comment agree enough feel waste day life go im go say owiee head hurt agree istj enfp good istj keep much hide bottle sure let thing need good proportion time tell people thing skim around edge first cant afford second want linux mac window vista guess speak many istj problem change nsure leave alone like grey bug live load time seriously find people upgrade worry feel old im know good portion think however good become aware look someone go hurt phisically mental anguish pas time go bite flirt see operate track recorder damn reel huge lol thank god hard disk however im still get reel reel single track portable player dad correct comment full story im private person post skim around edge little however thing share doen hold much ditch aunt long ago confidant special time one state live near uk lass u good friend time sound like poor guy want get know good shut time may pick hint like say previous post really grey area hard might catch catch situation think least effect og job side note might like b ok something bore like walk route something everyday make think thing end day dream people sometimes alone bad someone thing yet beat normally people scar alone like date process try trust space dust light energy radiation fill even glass give energy even vacume space energy even dark matter sound like ok e hmm e public show know show select people trust n hmm n give hypertension super anxious time tense take propranolol bad panic attack hard leave house want understand brain work psychiatrist would put propranolol send new york washinon height hate neighborhood predominately spanish people always play music mad loud fit neighborhood anyone else feel lol awesome iguana know learn go dbt group see therapist psychiatrist schizotypal come like talk people keep job wanna normal party get pretty girl friend quit yesterday mid shift panic attack get whelm get super quite want get outta send iphone use tapatalk greg plitt hero someone inspire push get comfort zone philosophy mind set strong inspire send iphone use tapatalk start new job fit know talk people cool odd wash dish know look stand bull shi know people autism work hold job hand nervous fuck keep job change name iconclast admins contact well read autism relate social anxiety therapist go group everyday dbt make try overcome always\n",
      "\n",
      "Predicted Personality Type: ISTJ\n",
      "\n",
      "***********************************************\n",
      "\n",
      "\n",
      "***********************************************\n",
      "\n",
      "Enter a post (type 'exit' to quit): need exactly le likely know mean mean intp extremely difficu time force maintenance type task clean apartment exercise thing nature find help little bite tackle small bit example half dish go something else little bite come back finish know help think necessarily put danger thing specifically fearful maybe need take experience extreme depend im really like picasso van gogh thing like like film character concept art landscape art fictional city like sometimes write use write lot fiction kid like see people creativity especially way literally see need much knowledge understand something creative sense im car person bc get part work really problem fi value make logical sense system ti even relation least discern ti tert well course say ti inherent mean value anything beside mechanical theoretical function curiosity work mean system reference logical within relation accurate le unless new information present everything reassess reposition correlate new data corrective function wise struggle inherent really depend individual live environment raise live problem emotion within first relationship come reject philosophy render existence essentially meaningless rationale especially relativism reject identity relative sure convenient ni free fe scream nothing mean relative constant also associate subjectivism like opinion man since use usually want dismiss others argument without explain shit fine agree disagree differ opinion fine long accept understand fma rotherhood good one think baccano awesome would vastly expand due obsolete need keep house close work environment open many new sector rural aesthetically please rural area assume teleportation free available like apparation harry potter universe conversely teleportation monetize go process expensive technology vr go would get typical company first exploit high disposable income create small niche market house market would correspondingly adapt create niche market mansion scatter around globe scenic probably tourist spot would buy mansion would also probably value place market tourist industry eventually market would expand include upper middle class technology evolve get cheap understand five language love would helpful lot sf nt relationship since generally follow certain dynamic approach affection lot room error misconception generally flexible try gregarious friend refuse move change someone try force anything usually take sort thing personal offense treat everything argument convince otherwise think right sound like intp get comfortable whatever guy sfs tendency challenge lot intp stand see struggle advice suggest walk away best friend conflict would blasphemy social dynamic incredibly unheahy use thesaurus far dictionary oh agree one debate truth post stink ignorance perhaps research slight lean amp amp least nice certain amount set aside student purchase super cheap one big grip college always eat cafeteria fresh produce cheap everyone would able cook every awhile yeah opinion fully form matter sound great could pull unfortunately like say freedom could issue straight male would tell intps general like person direct could well talk good side look prejudice analysis think shutter island really grow love day saw start clear basement e rarely take offense take offense irrationality truth though honest blunt direct something downright respect many people say many people intp even start doubt month test differents place come thing come\n",
      "\n",
      "Predicted Personality Type: INTP\n",
      "\n",
      "***********************************************\n",
      "\n",
      "\n",
      "***********************************************\n",
      "\n",
      "Enter a post (type 'exit' to quit): exit\n"
     ]
    }
   ],
   "source": [
    "import torch\n",
    "import joblib\n",
    "from sklearn.preprocessing import LabelEncoder\n",
    "from transformers import BertTokenizer, BertForSequenceClassification\n",
    "\n",
    "# Load label encoder (assuming you've saved it during training)\n",
    "label_encoder = joblib.load('/content/drive/MyDrive/MBTI_Personality/label_encoder.joblib')\n",
    "\n",
    "# Load tokenizer from directory\n",
    "tokenizer = BertTokenizer.from_pretrained('/content/drive/MyDrive/MBTI_Personality/tokenizer')\n",
    "\n",
    "# Load the saved complete model\n",
    "model = torch.load('/content/drive/MyDrive/MBTI_Personality/mbti-model-complete.pth')\n",
    "\n",
    "\n",
    "# Set the device (either 'cuda' for GPU or 'cpu' for CPU)\n",
    "device = 'cuda' if torch.cuda.is_available() else 'cpu'\n",
    "\n",
    "# Move the model to the same device as the input data\n",
    "model.to(device)\n",
    "\n",
    "def predict_class(input_text):\n",
    "    # Tokenize and encode the input text\n",
    "    input_ids = tokenizer.encode(input_text, add_special_tokens=True, max_length=512, truncation=True, return_tensors='pt')\n",
    "\n",
    "    # Move the input data to the same device as the model\n",
    "    input_ids = input_ids.to(device)\n",
    "\n",
    "    # Make the prediction\n",
    "    with torch.no_grad():\n",
    "        model.eval()\n",
    "        logits = model(input_ids)[0]\n",
    "\n",
    "    # Get the predicted class\n",
    "    predicted_class = torch.argmax(logits).item()\n",
    "\n",
    "    return predicted_class\n",
    "\n",
    "\n",
    "while True:\n",
    "    # Take user input\n",
    "    print(f\"\\n***********************************************\\n\")\n",
    "\n",
    "    user_input = input(\"Enter a post (type 'exit' to quit): \")\n",
    "\n",
    "    # Check if the user wants to exit\n",
    "    if user_input.lower() == 'exit':\n",
    "        break\n",
    "\n",
    "    # Tokenize and encode the input text\n",
    "    input_ids = tokenizer.encode(user_input, add_special_tokens=True, max_length=512, truncation=True, return_tensors='pt')\n",
    "\n",
    "    # Move the input data to the same device as the model\n",
    "    input_ids = input_ids.to(device)\n",
    "\n",
    "    # Make the prediction\n",
    "    with torch.no_grad():\n",
    "        model.eval()\n",
    "        logits = model(input_ids)[0]\n",
    "\n",
    "    # Get the predicted class\n",
    "    predicted_class = torch.argmax(logits).item()\n",
    "\n",
    "    # Decode the predicted class using the label encoder\n",
    "    predicted_label = label_encoder.inverse_transform([predicted_class])[0]\n",
    "\n",
    "    print(f\"\\nPredicted Personality Type: {predicted_label}\")\n",
    "    print(f\"\\n***********************************************\\n\")\n"
   ]
  },
  {
   "cell_type": "code",
   "execution_count": null,
   "metadata": {
    "id": "xdDgR3v8i591"
   },
   "outputs": [],
   "source": []
  }
 ],
 "metadata": {
  "accelerator": "GPU",
  "colab": {
   "gpuType": "T4",
   "provenance": []
  },
  "kernelspec": {
   "display_name": "Python 3",
   "language": "python",
   "name": "python3"
  },
  "language_info": {
   "codemirror_mode": {
    "name": "ipython",
    "version": 3
   },
   "file_extension": ".py",
   "mimetype": "text/x-python",
   "name": "python",
   "nbconvert_exporter": "python",
   "pygments_lexer": "ipython3",
   "version": "3.6.8"
  }
 },
 "nbformat": 4,
 "nbformat_minor": 1
}
